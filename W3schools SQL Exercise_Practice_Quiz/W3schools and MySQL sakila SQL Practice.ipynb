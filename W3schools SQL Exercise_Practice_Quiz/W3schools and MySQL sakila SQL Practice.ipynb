{
 "cells": [
  {
   "cell_type": "markdown",
   "metadata": {},
   "source": [
    "# W3schools SQL Practice\n",
    "https://www.w3schools.com/sql/trysql.asp?filename=trysql_op_in"
   ]
  },
  {
   "cell_type": "markdown",
   "metadata": {},
   "source": [
    "## How many different products are in each order? Which order has the most number of unique products?"
   ]
  },
  {
   "cell_type": "code",
   "execution_count": null,
   "metadata": {},
   "outputs": [],
   "source": [
    "SELECT OrderID, COUNT(DISTINCT ProductID) AS Num_Product \n",
    "FROM [OrderDetails]\n",
    "GROUP BY OrderID\n",
    "ORDER BY 2 DESC, 1;\n",
    "\n",
    "SELECT OrderID, COUNT(ProductID) AS Num_Product \n",
    "FROM [OrderDetails]\n",
    "GROUP BY OrderID\n",
    "HAVING Num_Product = 5\n",
    "ORDER BY 1;"
   ]
  },
  {
   "cell_type": "markdown",
   "metadata": {},
   "source": [
    "## Which products are sold in jars? What is the most expensive product that's sold in jars?"
   ]
  },
  {
   "cell_type": "code",
   "execution_count": null,
   "metadata": {},
   "outputs": [],
   "source": [
    "SELECT * FROM [Products]\n",
    "WHERE Unit LIKE '%jars%'\n",
    "ORDER BY Price DESC;\n",
    "\n",
    "SELECT * FROM [Products]\n",
    "WHERE Unit LIKE '%jars%'\n",
    "ORDER BY Price DESC\n",
    "LIMIT 1;"
   ]
  },
  {
   "cell_type": "markdown",
   "metadata": {},
   "source": [
    "## What are the product names are included in order ID 10250?"
   ]
  },
  {
   "cell_type": "code",
   "execution_count": null,
   "metadata": {},
   "outputs": [],
   "source": [
    "SELECT DISTINCT OD.OrderID, P.ProductName\n",
    "FROM [Products] AS P\n",
    "LEFT JOIN [OrderDetails] AS OD\n",
    "ON P.ProductID=OD.ProductID\n",
    "WHERE OD.OrderID = 10250;"
   ]
  },
  {
   "cell_type": "markdown",
   "metadata": {},
   "source": [
    "## What products are contained in category 'Dairy Products'?"
   ]
  },
  {
   "cell_type": "code",
   "execution_count": null,
   "metadata": {},
   "outputs": [],
   "source": [
    "SELECT Cat.CategoryName , P.ProductID, P.ProductName\n",
    "FROM [Products] AS P\n",
    "LEFT JOIN [Categories] AS Cat\n",
    "ON P.CategoryID=Cat.CategoryID\n",
    "WHERE Cat.CategoryName = 'Dairy Products';"
   ]
  },
  {
   "cell_type": "markdown",
   "metadata": {},
   "source": [
    "## Return the top 5 countries which have the most customers? (hint: use distinct to get unique customers)"
   ]
  },
  {
   "cell_type": "code",
   "execution_count": null,
   "metadata": {},
   "outputs": [],
   "source": [
    "SELECT Country, COUNT(DISTINCT CustomerID) AS Num_Customer\n",
    "FROM [Customers]\n",
    "GROUP BY Country\n",
    "ORDER BY 2 DESC\n",
    "LIMIT 5;"
   ]
  },
  {
   "cell_type": "markdown",
   "metadata": {},
   "source": [
    "## Which products are sold in ‘jars’?"
   ]
  },
  {
   "cell_type": "code",
   "execution_count": null,
   "metadata": {},
   "outputs": [],
   "source": [
    "SELECT * FROM [Products]\n",
    "WHERE Unit LIKE '%jars%';"
   ]
  },
  {
   "cell_type": "markdown",
   "metadata": {
    "ExecuteTime": {
     "end_time": "2020-08-12T12:11:18.501078Z",
     "start_time": "2020-08-12T12:11:18.490108Z"
    }
   },
   "source": [
    "## Which employees studied English in their education background? "
   ]
  },
  {
   "cell_type": "code",
   "execution_count": null,
   "metadata": {},
   "outputs": [],
   "source": [
    "SELECT * FROM [Employees]\n",
    "WHERE Notes LIKE '%English%';"
   ]
  },
  {
   "cell_type": "markdown",
   "metadata": {
    "ExecuteTime": {
     "end_time": "2020-08-12T12:11:56.313032Z",
     "start_time": "2020-08-12T12:11:56.294647Z"
    }
   },
   "source": [
    "## Which employees are born after 1960? (hint: use ‘1960-01-01’ to compare with brith date)"
   ]
  },
  {
   "cell_type": "code",
   "execution_count": null,
   "metadata": {},
   "outputs": [],
   "source": [
    "SELECT * FROM [Employees]\n",
    "WHERE BirthDate >= '1960-01-01'\n",
    "ORDER BY BirthDate;"
   ]
  },
  {
   "cell_type": "markdown",
   "metadata": {},
   "source": [
    "## Return the top 10 products have been sold the most"
   ]
  },
  {
   "cell_type": "code",
   "execution_count": null,
   "metadata": {},
   "outputs": [],
   "source": [
    "SELECT ProductID, SUM(Quantity) AS Total_sold\n",
    "FROM [OrderDetails]\n",
    "GROUP BY ProductID\n",
    "ORDER BY Total_sold DESC\n",
    "LIMIT 10;"
   ]
  },
  {
   "cell_type": "markdown",
   "metadata": {},
   "source": [
    "## What are the average prices for ‘bottles’ and ‘jars’ products?"
   ]
  },
  {
   "cell_type": "code",
   "execution_count": null,
   "metadata": {},
   "outputs": [],
   "source": [
    "SELECT AVG(Price) AS Avg_Price_jar_bottle \n",
    "FROM [Products]\n",
    "WHERE Unit LIKE '%jars%' \n",
    "OR Unit LIKE '%bottle%';"
   ]
  },
  {
   "cell_type": "markdown",
   "metadata": {},
   "source": [
    "# MySQL sakila Practice"
   ]
  },
  {
   "cell_type": "markdown",
   "metadata": {},
   "source": [
    "## Which actors have the first name 'Scarlett'?\n",
    "\n"
   ]
  },
  {
   "cell_type": "code",
   "execution_count": null,
   "metadata": {},
   "outputs": [],
   "source": [
    "SELECT * FROM sakila.actor\n",
    "WHERE first_name = 'Scarlett';"
   ]
  },
  {
   "cell_type": "markdown",
   "metadata": {},
   "source": [
    "## Which actors have the last name 'Johansson'"
   ]
  },
  {
   "cell_type": "code",
   "execution_count": null,
   "metadata": {},
   "outputs": [],
   "source": [
    "SELECT * FROM sakila.actor\n",
    "WHERE last_name = 'Johansson';"
   ]
  },
  {
   "cell_type": "markdown",
   "metadata": {},
   "source": [
    "## How many distinct actors last names are there?"
   ]
  },
  {
   "cell_type": "code",
   "execution_count": null,
   "metadata": {},
   "outputs": [],
   "source": [
    "SELECT COUNT(DISTINCT last_name) AS Num_distinct_last_name\n",
    "FROM sakila.actor;"
   ]
  },
  {
   "cell_type": "markdown",
   "metadata": {},
   "source": [
    "## Which last names appear more than once?"
   ]
  },
  {
   "cell_type": "code",
   "execution_count": null,
   "metadata": {},
   "outputs": [],
   "source": [
    "SELECT last_name, COUNT(last_name) AS Num_last_name\n",
    "FROM sakila.actor\n",
    "GROUP BY last_name\n",
    "HAVING Num_last_name > 1\n",
    "ORDER BY Num_last_name DESC;"
   ]
  },
  {
   "cell_type": "markdown",
   "metadata": {},
   "source": [
    "## How many total rentals occured in May?"
   ]
  },
  {
   "cell_type": "code",
   "execution_count": null,
   "metadata": {},
   "outputs": [],
   "source": [
    "SELECT COUNT(rental_id) AS Total_rental\n",
    "FROM sakila.rental\n",
    "WHERE MONTH(rental_date) = '05';"
   ]
  },
  {
   "cell_type": "markdown",
   "metadata": {},
   "source": [
    "## How many staff processed rentals in May?"
   ]
  },
  {
   "cell_type": "code",
   "execution_count": null,
   "metadata": {},
   "outputs": [],
   "source": [
    "SELECT COUNT(DISTINCT staff_id) AS Num_Staff_in_May\n",
    "FROM sakila.rental\n",
    "WHERE MONTH(rental_date) = '05';"
   ]
  },
  {
   "cell_type": "markdown",
   "metadata": {},
   "source": [
    "## Which staff processed the most rentals in May?"
   ]
  },
  {
   "cell_type": "code",
   "execution_count": null,
   "metadata": {},
   "outputs": [],
   "source": [
    "SELECT staff_id, COUNT(staff_id) AS Num_rental_in_May\n",
    "FROM sakila.rental\n",
    "WHERE MONTH(rental_date) = '05'\n",
    "GROUP BY staff_id\n",
    "ORDER BY 2 DESC\n",
    "LIMIT 1;"
   ]
  },
  {
   "cell_type": "markdown",
   "metadata": {},
   "source": [
    "## Which customer paid the most rental in August?"
   ]
  },
  {
   "cell_type": "code",
   "execution_count": null,
   "metadata": {},
   "outputs": [],
   "source": [
    "SELECT customer_id, SUM(amount) AS Total_rent_in_Aug\n",
    "FROM sakila.payment\n",
    "WHERE MONTH(payment_date) = '08'\n",
    "GROUP BY customer_id\n",
    "ORDER BY 2 DESC\n",
    "LIMIT 1;"
   ]
  },
  {
   "cell_type": "markdown",
   "metadata": {},
   "source": [
    "## A summary of rental total amount by month."
   ]
  },
  {
   "cell_type": "code",
   "execution_count": null,
   "metadata": {},
   "outputs": [],
   "source": [
    "SELECT MONTH(payment_date) AS Month, SUM(amount) AS Total_rental_by_month\n",
    "FROM sakila.payment\n",
    "GROUP BY MONTH(payment_date)\n",
    "ORDER BY 2 DESC;"
   ]
  }
 ],
 "metadata": {
  "hide_input": false,
  "kernelspec": {
   "display_name": "Python 3",
   "language": "python",
   "name": "python3"
  },
  "language_info": {
   "codemirror_mode": {
    "name": "ipython",
    "version": 3
   },
   "file_extension": ".py",
   "mimetype": "text/x-python",
   "name": "python",
   "nbconvert_exporter": "python",
   "pygments_lexer": "ipython3",
   "version": "3.8.5"
  },
  "toc": {
   "base_numbering": 1,
   "nav_menu": {},
   "number_sections": true,
   "sideBar": true,
   "skip_h1_title": false,
   "title_cell": "Table of Contents",
   "title_sidebar": "Contents",
   "toc_cell": false,
   "toc_position": {},
   "toc_section_display": true,
   "toc_window_display": false
  }
 },
 "nbformat": 4,
 "nbformat_minor": 4
}

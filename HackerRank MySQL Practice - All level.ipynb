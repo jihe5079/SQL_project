{
 "cells": [
  {
   "cell_type": "markdown",
   "metadata": {},
   "source": [
    "# Easy"
   ]
  },
  {
   "cell_type": "markdown",
   "metadata": {},
   "source": [
    "## Revising the Select Query I\n",
    "Query all columns for all American cities in the CITY table with populations larger than 100000. The CountryCode for America is USA."
   ]
  },
  {
   "cell_type": "code",
   "execution_count": null,
   "metadata": {},
   "outputs": [],
   "source": [
    "SELECT * FROM CITY\n",
    "WHERE Population  > 100000\n",
    "AND CountryCode = 'USA';"
   ]
  },
  {
   "cell_type": "markdown",
   "metadata": {},
   "source": [
    "## Revising the Select Query II\n",
    "Query the NAME field for all American cities in the CITY table with populations larger than 120000. The CountryCode for America is USA."
   ]
  },
  {
   "cell_type": "code",
   "execution_count": null,
   "metadata": {},
   "outputs": [],
   "source": [
    "SELECT Name FROM City           \n",
    "WHERE Population > 120000\n",
    "AND CountryCode = 'USA';"
   ]
  },
  {
   "cell_type": "markdown",
   "metadata": {},
   "source": [
    "## Select All\n",
    "Query all columns (attributes) for every row in the CITY table."
   ]
  },
  {
   "cell_type": "code",
   "execution_count": null,
   "metadata": {},
   "outputs": [],
   "source": [
    "SELECT * FROM CITY;"
   ]
  },
  {
   "cell_type": "markdown",
   "metadata": {},
   "source": [
    "## Select By ID\n",
    "Query all columns for a city in CITY with the ID 1661."
   ]
  },
  {
   "cell_type": "code",
   "execution_count": null,
   "metadata": {},
   "outputs": [],
   "source": [
    "SELECT * FROM City\n",
    "WHERE ID = 1661;"
   ]
  },
  {
   "cell_type": "markdown",
   "metadata": {},
   "source": [
    "## Japanese Cities' Attributes\n",
    "Query all attributes of every Japanese city in the CITY table. The COUNTRYCODE for Japan is JPN."
   ]
  },
  {
   "cell_type": "code",
   "execution_count": null,
   "metadata": {},
   "outputs": [],
   "source": [
    "SELECT * FROM City\n",
    "WHERE CountryCode = 'JPN';"
   ]
  },
  {
   "cell_type": "markdown",
   "metadata": {},
   "source": [
    "## Japanese Cities' Names\n",
    "Query the names of all the Japanese cities in the CITY table. The COUNTRYCODE for Japan is JPN."
   ]
  },
  {
   "cell_type": "code",
   "execution_count": null,
   "metadata": {},
   "outputs": [],
   "source": [
    "SELECT Name FROM City\n",
    "WHERE CountryCode = 'JPN';"
   ]
  },
  {
   "cell_type": "markdown",
   "metadata": {},
   "source": [
    "## Weather Observation Station 1\n",
    "Query a list of CITY and STATE from the STATION table."
   ]
  },
  {
   "cell_type": "code",
   "execution_count": null,
   "metadata": {},
   "outputs": [],
   "source": [
    "SELECT City, State FROM Station;"
   ]
  },
  {
   "cell_type": "markdown",
   "metadata": {},
   "source": [
    "## Weather Observation Station 3\n",
    "Query a list of CITY names from STATION for cities that have an even ID number. Print the results in any order, but exclude duplicates from the answer."
   ]
  },
  {
   "cell_type": "code",
   "execution_count": null,
   "metadata": {},
   "outputs": [],
   "source": [
    "SELECT DISTINCT City\n",
    "FROM Station\n",
    "WHERE ID % 2 = 0;"
   ]
  },
  {
   "cell_type": "markdown",
   "metadata": {},
   "source": [
    "## Weather Observation Station 4\n",
    "Find the difference between the total number of CITY entries in the table and the number of distinct CITY entries in the table."
   ]
  },
  {
   "cell_type": "code",
   "execution_count": null,
   "metadata": {},
   "outputs": [],
   "source": [
    "SELECT (COUNT(City) - COUNT(DISTINCT City)) AS Difference\n",
    "FROM Station;"
   ]
  },
  {
   "cell_type": "markdown",
   "metadata": {},
   "source": [
    "## Weather Observation Station 5\n",
    "Query the two cities in STATION with the shortest and longest CITY names, as well as their respective lengths (i.e.: number of characters in the name). If there is more than one smallest or largest city, choose the one that comes first when ordered alphabetically."
   ]
  },
  {
   "cell_type": "code",
   "execution_count": null,
   "metadata": {},
   "outputs": [],
   "source": [
    "SELECT City, LENGTH(City) AS lengths \n",
    "FROM Station \n",
    "ORDER BY 2, 1 \n",
    "LIMIT 1;\n",
    "\n",
    "SELECT City, LENGTH(City) AS lengths \n",
    "FROM Station \n",
    "ORDER BY 2 DESC, 1 \n",
    "LIMIT 1;"
   ]
  },
  {
   "cell_type": "markdown",
   "metadata": {},
   "source": [
    "## Weather Observation Station 6\n",
    "Query the list of CITY names starting with vowels (i.e., a, e, i, o, or u) from STATION. Your result cannot contain duplicates."
   ]
  },
  {
   "cell_type": "code",
   "execution_count": null,
   "metadata": {},
   "outputs": [],
   "source": [
    "SELECT DISTINCT City FROM Station\n",
    "WHERE City LIKE 'a%'\n",
    "OR City LIKE 'e%'\n",
    "OR City LIKE 'i%'\n",
    "OR City LIKE 'o%'\n",
    "OR City LIKE 'u%'\n",
    "ORDER BY 1;\n",
    "\n",
    "# OR (MySQL)\n",
    "SELECT DISTINCT City FROM Station\n",
    "WHERE City REGEXP '^[aeiou]'\n",
    "ORDER BY 1;"
   ]
  },
  {
   "cell_type": "markdown",
   "metadata": {},
   "source": [
    "## Weather Observation Station 7\n",
    "Query the list of CITY names ending with vowels (a, e, i, o, u) from STATION. Your result cannot contain duplicates."
   ]
  },
  {
   "cell_type": "code",
   "execution_count": null,
   "metadata": {},
   "outputs": [],
   "source": [
    "SELECT DISTINCT City FROM Station\n",
    "WHERE City LIKE '%a'\n",
    "OR City LIKE '%e'\n",
    "OR City LIKE '%i'\n",
    "OR City LIKE '%o'\n",
    "OR City LIKE '%u'\n",
    "ORDER BY 1;\n",
    "\n",
    "# OR (MySQL)\n",
    "SELECT DISTINCT City FROM Station\n",
    "WHERE City REGEXP '[aeiou]$'\n",
    "ORDER BY 1;"
   ]
  },
  {
   "cell_type": "markdown",
   "metadata": {},
   "source": [
    "## Weather Observation Station 8\n",
    "Query the list of CITY names from STATION which have vowels (i.e., a, e, i, o, and u) as both their first and last characters. Your result cannot contain duplicates."
   ]
  },
  {
   "cell_type": "code",
   "execution_count": null,
   "metadata": {},
   "outputs": [],
   "source": [
    "SELECT DISTINCT City FROM Station\n",
    "WHERE City REGEXP '^[aeiou].*[aeiou]$'\n",
    "ORDER BY 1;"
   ]
  },
  {
   "cell_type": "markdown",
   "metadata": {},
   "source": [
    "## Weather Observation Station 9\n",
    "Query the list of CITY names from STATION that do not start with vowels. Your result cannot contain duplicates."
   ]
  },
  {
   "cell_type": "code",
   "execution_count": null,
   "metadata": {},
   "outputs": [],
   "source": [
    "SELECT DISTINCT City FROM Station\n",
    "WHERE City REGEXP '^[^aeiou]'\n",
    "ORDER BY 1;\n",
    "\n",
    "SELECT DISTINCT City FROM Station\n",
    "WHERE City RLIKE '^[^aeiou]'\n",
    "ORDER BY 1;"
   ]
  },
  {
   "cell_type": "markdown",
   "metadata": {},
   "source": [
    "## Weather Observation Station 10\n",
    "Query the list of CITY names from STATION that do not end with vowels. Your result cannot contain duplicates."
   ]
  },
  {
   "cell_type": "code",
   "execution_count": null,
   "metadata": {},
   "outputs": [],
   "source": [
    "SELECT DISTINCT City FROM Station\n",
    "WHERE City RLIKE '[^aeiou]$'\n",
    "ORDER BY 1;"
   ]
  },
  {
   "cell_type": "markdown",
   "metadata": {},
   "source": [
    "## Weather Observation Station 11\n",
    "Query the list of CITY names from STATION that either do not start with vowels or do not end with vowels. Your result cannot contain duplicates."
   ]
  },
  {
   "cell_type": "code",
   "execution_count": null,
   "metadata": {},
   "outputs": [],
   "source": [
    "SELECT DISTINCT City FROM Station\n",
    "WHERE City RLIKE '^[^aeiou].*' \n",
    "OR City RLIKE'.*[^aeiou]$'\n",
    "ORDER BY 1;"
   ]
  },
  {
   "cell_type": "markdown",
   "metadata": {},
   "source": [
    "## Weather Observation Station 12\n",
    "Query the list of CITY names from STATION that do not start with vowels and do not end with vowels. Your result cannot contain duplicates."
   ]
  },
  {
   "cell_type": "code",
   "execution_count": null,
   "metadata": {},
   "outputs": [],
   "source": [
    "SELECT DISTINCT City FROM Station\n",
    "WHERE City RLIKE '^[^aeiou].*[^aeiou]$'\n",
    "ORDER BY 1;"
   ]
  },
  {
   "cell_type": "markdown",
   "metadata": {},
   "source": [
    "## Higher Than 75 Marks\n",
    "Query the Name of any student in STUDENTS who scored higher than 75 Marks. Order your output by the last three characters of each name. If two or more students both have names ending in the same last three characters (i.e.: Bobby, Robby, etc.), secondary sort them by ascending ID."
   ]
  },
  {
   "cell_type": "code",
   "execution_count": null,
   "metadata": {},
   "outputs": [],
   "source": [
    "SELECT Name FROM STUDENTS\n",
    "WHERE Marks > 75\n",
    "ORDER BY RIGHT(Name, 3), ID;"
   ]
  },
  {
   "cell_type": "markdown",
   "metadata": {},
   "source": [
    "## Employee Names\n",
    "Write a query that prints a list of employee names (i.e.: the name attribute) from the Employee table in alphabetical order."
   ]
  },
  {
   "cell_type": "code",
   "execution_count": null,
   "metadata": {},
   "outputs": [],
   "source": [
    "SELECT name FROM Employee\n",
    "ORDER BY 1;"
   ]
  },
  {
   "cell_type": "markdown",
   "metadata": {},
   "source": [
    "## Employee Salaries\n",
    "Write a query that prints a list of employee names (i.e.: the name attribute) for employees in Employee having a salary greater than $2000 per month who have been employees for less than 10 months. Sort your result by ascending employee_id."
   ]
  },
  {
   "cell_type": "code",
   "execution_count": null,
   "metadata": {},
   "outputs": [],
   "source": [
    "SELECT name FROM Employee\n",
    "WHERE salary > 2000\n",
    "AND months < 10 \n",
    "ORDER BY employee_id;"
   ]
  },
  {
   "cell_type": "markdown",
   "metadata": {},
   "source": [
    "## Type of Triangle\n",
    "Write a query identifying the type of each record in the TRIANGLES table using its three side lengths. Output one of the following statements for each record in the table:\n",
    "\n",
    "Equilateral: It's a triangle with 3 sides of equal length.\n",
    "\n",
    "Isosceles: It's a triangle with 2 sides of equal length.\n",
    "\n",
    "Scalene: It's a triangle with 3 sides of differing lengths.\n",
    "\n",
    "Not A Triangle: The given values of A, B, and C don't form a triangle."
   ]
  },
  {
   "cell_type": "code",
   "execution_count": null,
   "metadata": {},
   "outputs": [],
   "source": [
    "SELECT \n",
    "CASE WHEN A+B<=C OR A+C<=B OR B+C<=A THEN 'Not A Triangle'\n",
    "     WHEN A=B AND B=C THEN 'Equilateral'\n",
    "     WHEN A=B OR A=C OR B=C THEN 'Isosceles'\n",
    "     WHEN A!=B AND B!=C AND A!=C THEN 'Scalene'       \n",
    "END AS type_triangle\n",
    "FROM TRIANGLES;"
   ]
  },
  {
   "cell_type": "markdown",
   "metadata": {},
   "source": [
    "## Revising Aggregations - The Count Function\n",
    "Query a count of the number of cities in CITY having a Population larger than 100,000."
   ]
  },
  {
   "cell_type": "code",
   "execution_count": null,
   "metadata": {},
   "outputs": [],
   "source": [
    "SELECT COUNT(DISTINCT ID) \n",
    "FROM CITY\n",
    "WHERE POPULATION > 100000;"
   ]
  },
  {
   "cell_type": "markdown",
   "metadata": {},
   "source": [
    "## Revising Aggregations - The Sum Function\n",
    "Query the total population of all cities in CITY where District is California."
   ]
  },
  {
   "cell_type": "code",
   "execution_count": null,
   "metadata": {},
   "outputs": [],
   "source": [
    "SELECT SUM(POPULATION)\n",
    "FROM CITY\n",
    "WHERE DISTRICT = 'California';"
   ]
  },
  {
   "cell_type": "markdown",
   "metadata": {},
   "source": [
    "## Revising Aggregations - Averages\n",
    "Query the average population of all cities in CITY where District is California."
   ]
  },
  {
   "cell_type": "code",
   "execution_count": null,
   "metadata": {},
   "outputs": [],
   "source": [
    "SELECT AVG(POPULATION)\n",
    "FROM CITY\n",
    "WHERE DISTRICT = 'California';"
   ]
  },
  {
   "cell_type": "markdown",
   "metadata": {},
   "source": [
    "## Average Population\n",
    "Query the average population for all cities in CITY, rounded down to the nearest integer."
   ]
  },
  {
   "cell_type": "code",
   "execution_count": null,
   "metadata": {},
   "outputs": [],
   "source": [
    "SELECT ROUND(AVG(POPULATION))\n",
    "FROM CITY;"
   ]
  },
  {
   "cell_type": "markdown",
   "metadata": {},
   "source": [
    "## Japan Population\n",
    "Query the sum of the populations for all Japanese cities in CITY. The COUNTRYCODE for Japan is JPN."
   ]
  },
  {
   "cell_type": "code",
   "execution_count": null,
   "metadata": {},
   "outputs": [],
   "source": [
    "SELECT SUM(POPULATION) FROM CITY\n",
    "WHERE COUNTRYCODE = 'JPN';"
   ]
  },
  {
   "cell_type": "markdown",
   "metadata": {},
   "source": [
    "## Population Density Difference\n",
    "Query the difference between the maximum and minimum populations in CITY."
   ]
  },
  {
   "cell_type": "code",
   "execution_count": null,
   "metadata": {},
   "outputs": [],
   "source": [
    "SELECT MAX(POPULATION) - MIN(POPULATION)\n",
    "FROM CITY;"
   ]
  },
  {
   "cell_type": "markdown",
   "metadata": {},
   "source": [
    "## The Blunder\n",
    "Samantha was tasked with calculating the average monthly salaries for all employees in the EMPLOYEES table, but did not realize her keyboard's 0 key was broken until after completing the calculation. She wants your help finding the difference between her miscalculation (using salaries with any zeroes removed), and the actual average salary.\n",
    "\n",
    "Write a query calculating the amount of error (i.e.: actual - miscalculated average monthly salaries), and round it up to the next integer."
   ]
  },
  {
   "cell_type": "code",
   "execution_count": null,
   "metadata": {},
   "outputs": [],
   "source": [
    "SELECT CEIL(AVG(Salary) - AVG(REPLACE(Salary,'0',''))) \n",
    "FROM EMPLOYEES;"
   ]
  },
  {
   "cell_type": "markdown",
   "metadata": {},
   "source": [
    "## Top Earners\n",
    "We define an employee's total earnings to be their monthly salary x months worked, and the maximum total earnings to be the maximum total earnings for any employee in the Employee table. Write a query to find the maximum total earnings for all employees as well as the total number of employees who have maximum total earnings. Then print these values as space-separated integers."
   ]
  },
  {
   "cell_type": "code",
   "execution_count": null,
   "metadata": {},
   "outputs": [],
   "source": [
    "SELECT (salary * months) AS earnings, COUNT(*)\n",
    "FROM Employee\n",
    "GROUP BY 1 \n",
    "ORDER BY 1 DESC\n",
    "LIMIT 1;"
   ]
  },
  {
   "cell_type": "markdown",
   "metadata": {},
   "source": [
    "## Weather Observation Station 2\n",
    "Query the following two values from the STATION table:\n",
    "\n",
    "The sum of all values in LAT_N rounded to a scale of decimal places. \n",
    "\n",
    "The sum of all values in LONG_W rounded to a scale of decimal places."
   ]
  },
  {
   "cell_type": "code",
   "execution_count": null,
   "metadata": {},
   "outputs": [],
   "source": [
    "SELECT CAST(SUM(LAT_N) AS DECIMAL(10,2)) AS lat, \n",
    "       CAST(SUM(LONG_W) AS DECIMAL(10,2)) AS lon \n",
    "FROM Station;\n",
    "\n",
    "# CAST: Converts a value (of any type) into a specified datatype\n",
    "# Ex: DECIMAL(19,9) has 9 digits for the fractional part and 19-9 = 10 digits for integer part."
   ]
  },
  {
   "cell_type": "markdown",
   "metadata": {},
   "source": [
    "## Weather Observation Station 13\n",
    "Query the sum of Northern Latitudes (LAT_N) from STATION having values greater than 38.7880 and less than 137.2345. Truncate your answer to 4 decimal places."
   ]
  },
  {
   "cell_type": "code",
   "execution_count": null,
   "metadata": {},
   "outputs": [],
   "source": [
    "SELECT TRUNCATE(SUM(LAT_N), 4) AS lat\n",
    "FROM Station\n",
    "WHERE LAT_N BETWEEN 38.7880 AND 137.2345;\n",
    "\n",
    "# TRUNCATE just drops digits after the specified digit, whereas ROUND might change the last digit by rounding"
   ]
  },
  {
   "cell_type": "markdown",
   "metadata": {},
   "source": [
    "## Weather Observation Station 14\n",
    "Query the greatest value of the Northern Latitudes (LAT_N) from STATION that is less than 137.2345. Truncate your answer to 4 decimal places."
   ]
  },
  {
   "cell_type": "code",
   "execution_count": null,
   "metadata": {},
   "outputs": [],
   "source": [
    "SELECT TRUNCATE(MAX(LAT_N), 4)\n",
    "FROM STATION\n",
    "WHERE LAT_N < 137.2345;"
   ]
  },
  {
   "cell_type": "markdown",
   "metadata": {},
   "source": [
    "## Weather Observation Station 15\n",
    "Query the Western Longitude (LONG_W) for the largest Northern Latitude (LAT_N) in STATION that is less than 137.2345. Round your answer to 4 decimal places."
   ]
  },
  {
   "cell_type": "code",
   "execution_count": null,
   "metadata": {},
   "outputs": [],
   "source": [
    "WITH temp AS (\n",
    "    SELECT LAT_N, LONG_W\n",
    "    FROM STATION\n",
    "    WHERE LAT_N < 137.2345)\n",
    "\n",
    "SELECT ROUND(LONG_W, 4)\n",
    "FROM temp\n",
    "ORDER BY LAT_N DESC\n",
    "LIMIT 1;\n",
    "\n",
    "# OR\n",
    "SELECT ROUND(LONG_W, 4) \n",
    "FROM STATION \n",
    "WHERE LAT_N = (SELECT MAX(LAT_N) \n",
    "               FROM STATION \n",
    "               WHERE LAT_N < 137.2345);"
   ]
  },
  {
   "cell_type": "markdown",
   "metadata": {},
   "source": [
    "## Weather Observation Station 16\n",
    "Query the smallest Northern Latitude (LAT_N) from STATION that is greater than 38.7880. Round your answer to 4 decimal places."
   ]
  },
  {
   "cell_type": "code",
   "execution_count": null,
   "metadata": {},
   "outputs": [],
   "source": [
    "SELECT ROUND(MIN(LAT_N), 4)\n",
    "FROM STATION\n",
    "WHERE LAT_N > 38.7780;"
   ]
  },
  {
   "cell_type": "markdown",
   "metadata": {},
   "source": [
    "## Weather Observation Station 17\n",
    "Query the Western Longitude (LONG_W)where the smallest Northern Latitude (LAT_N) in STATION is greater than 38.7780. Round your answer to 4 decimal places."
   ]
  },
  {
   "cell_type": "code",
   "execution_count": null,
   "metadata": {},
   "outputs": [],
   "source": [
    "SELECT ROUND(MIN(LONG_W), 4)\n",
    "FROM STATION\n",
    "WHERE LAT_N = (SELECT MIN(LAT_N)\n",
    "               FROM STATION\n",
    "               WHERE LAT_N > 38.7780);"
   ]
  },
  {
   "cell_type": "markdown",
   "metadata": {},
   "source": [
    "## Asian Population\n",
    "Given the CITY and COUNTRY tables, query the sum of the populations of all cities where the CONTINENT is 'Asia'.\n",
    "\n",
    "Note: CITY.CountryCode and COUNTRY.Code are matching key columns."
   ]
  },
  {
   "cell_type": "code",
   "execution_count": null,
   "metadata": {},
   "outputs": [],
   "source": [
    "SELECT SUM(CITY.POPULATION)\n",
    "FROM CITY\n",
    "JOIN COUNTRY\n",
    "ON CITY.CountryCode = COUNTRY.Code\n",
    "WHERE COUNTRY.CONTINENT = 'Asia';"
   ]
  },
  {
   "cell_type": "markdown",
   "metadata": {},
   "source": [
    "## African Cities\n",
    "Given the CITY and COUNTRY tables, query the names of all cities where the CONTINENT is 'Africa'.\n",
    "\n",
    "Note: CITY.CountryCode and COUNTRY.Code are matching key columns."
   ]
  },
  {
   "cell_type": "code",
   "execution_count": null,
   "metadata": {},
   "outputs": [],
   "source": [
    "SELECT CITY.NAME\n",
    "FROM CITY\n",
    "JOIN COUNTRY\n",
    "ON CITY.CountryCode = COUNTRY.Code\n",
    "WHERE COUNTRY.CONTINENT = 'Africa';"
   ]
  },
  {
   "cell_type": "markdown",
   "metadata": {},
   "source": [
    "## Average Population of Each Continent\n",
    "Given the CITY and COUNTRY tables, query the names of all the continents (COUNTRY.Continent) and their respective average city populations (CITY.Population) rounded down to the nearest integer.\n",
    "\n",
    "Note: CITY.CountryCode and COUNTRY.Code are matching key columns."
   ]
  },
  {
   "cell_type": "code",
   "execution_count": null,
   "metadata": {},
   "outputs": [],
   "source": [
    "SELECT COUNTRY.Continent, FLOOR(AVG(CITY.POPULATION))\n",
    "FROM CITY\n",
    "JOIN COUNTRY\n",
    "ON CITY.CountryCode = COUNTRY.Code\n",
    "GROUP BY COUNTRY.Continent;"
   ]
  },
  {
   "cell_type": "markdown",
   "metadata": {},
   "source": [
    "## Draw The Triangle 1 \n",
    "P(R) represents a pattern drawn by Julia in R rows. The following pattern represents P(5): \n",
    "\n",
    "Write a query to print the pattern P(20)."
   ]
  },
  {
   "cell_type": "code",
   "execution_count": null,
   "metadata": {},
   "outputs": [],
   "source": [
    "SET @number = 21;\n",
    "SELECT REPEAT('* ', @number := @number - 1) \n",
    "FROM INFORMATION_SCHEMA.TABLES;"
   ]
  },
  {
   "cell_type": "markdown",
   "metadata": {},
   "source": [
    "## Draw The Triangle 2\n",
    "P(R) represents a pattern drawn by Julia in R rows. The following pattern represents P(5):\n",
    "\n",
    "Write a query to print the pattern P(20)."
   ]
  },
  {
   "cell_type": "code",
   "execution_count": null,
   "metadata": {},
   "outputs": [],
   "source": [
    "SET @number = 0;\n",
    "SELECT REPEAT('* ', @number := @number + 1) \n",
    "FROM INFORMATION_SCHEMA.TABLES\n",
    "LIMIT 20;"
   ]
  },
  {
   "cell_type": "markdown",
   "metadata": {},
   "source": [
    "# Medium"
   ]
  },
  {
   "cell_type": "markdown",
   "metadata": {},
   "source": [
    "## The PADS\n",
    "Generate the following two result sets:\n",
    "\n",
    "Query an alphabetically ordered list of all names in OCCUPATIONS, immediately followed by the first letter of each profession as a parenthetical (i.e.: enclosed in parentheses). For example: AnActorName(A), ADoctorName(D), AProfessorName(P), and ASingerName(S).\n",
    "Query the number of ocurrences of each occupation in OCCUPATIONS. Sort the occurrences in ascending order, and output them in the following format:\n",
    "\n",
    "There are a total of [occupation_count] [occupation]s.\n",
    "where [occupation_count] is the number of occurrences of an occupation in OCCUPATIONS and [occupation] is the lowercase occupation name. If more than one Occupation has the same [occupation_count], they should be ordered alphabetically.\n",
    "\n",
    "Note: There will be at least two entries in the table for each type of occupation."
   ]
  },
  {
   "cell_type": "code",
   "execution_count": null,
   "metadata": {},
   "outputs": [],
   "source": [
    "SELECT CONCAT(Name, '(', LEFT(Occupation, 1), ')') \n",
    "FROM OCCUPATIONS\n",
    "ORDER BY Name;\n",
    "\n",
    "SELECT CONCAT('There are a total of ', \n",
    "              COUNT(Occupation), \n",
    "              ' ', \n",
    "              LOWER(Occupation), \n",
    "              's.') AS Occurences\n",
    "FROM OCCUPATIONS\n",
    "GROUP BY Occupation\n",
    "ORDER BY Occurences;\n",
    "\n",
    "# LEFT: Extracts a number of characters from a string (starting from left)"
   ]
  },
  {
   "cell_type": "markdown",
   "metadata": {},
   "source": [
    "## Occupations\n",
    "Pivot the Occupation column in OCCUPATIONS so that each Name is sorted alphabetically and displayed underneath its corresponding Occupation. The output column headers should be Doctor, Professor, Singer, and Actor, respectively.\n",
    "\n",
    "Note: Print NULL when there are no more names corresponding to an occupation."
   ]
  },
  {
   "cell_type": "code",
   "execution_count": null,
   "metadata": {},
   "outputs": [],
   "source": [
    "SET @r1 = 0, @r2 = 0, @r3 = 0, @r4 = 0;\n",
    "SELECT MIN(Doctor), MIN(Professor), MIN(Singer), MIN(Actor)\n",
    "FROM (SELECT CASE WHEN Occupation = 'Doctor' THEN (@r1 := @r1 + 1)\n",
    "                  WHEN Occupation = 'Professor' THEN (@r2:=@r2+1)\n",
    "                  WHEN Occupation = 'Singer' THEN (@r3:=@r3+1)\n",
    "                  WHEN Occupation = 'Actor' THEN (@r4:=@r4+1) END AS RowNumber,\n",
    "             CASE WHEN Occupation = 'Doctor' THEN Name END AS Doctor,\n",
    "             CASE WHEN Occupation = 'Professor' THEN Name END AS Professor,\n",
    "             CASE WHEN Occupation = 'Singer' THEN Name END AS Singer,\n",
    "             CASE WHEN Occupation = 'Actor' THEN Name END AS Actor\n",
    "      FROM OCCUPATIONS\n",
    "      ORDER BY Name\n",
    "      ) Temp\n",
    "GROUP BY RowNumber;"
   ]
  },
  {
   "cell_type": "markdown",
   "metadata": {},
   "source": [
    "## Binary Tree Nodes\n",
    "You are given a table, BST, containing two columns: N and P, where N represents the value of a node in Binary Tree, and P is the parent of N.\n",
    "\n",
    "Write a query to find the node type of Binary Tree ordered by the value of the node. Output one of the following for each node:\n",
    "\n",
    "Root: If node is root node.\n",
    "\n",
    "Leaf: If node is leaf node.\n",
    "\n",
    "Inner: If node is neither root nor leaf node."
   ]
  },
  {
   "cell_type": "code",
   "execution_count": null,
   "metadata": {},
   "outputs": [],
   "source": [
    "SELECT N, \n",
    "       CASE WHEN P IS NULL THEN 'Root'\n",
    "            WHEN N IN (SELECT DISTINCT P FROM BST) THEN 'Inner'\n",
    "            ELSE 'Leaf'\n",
    "       END\n",
    "FROM BST\n",
    "ORDER BY N;"
   ]
  },
  {
   "cell_type": "markdown",
   "metadata": {},
   "source": [
    "## New Companies\n",
    "\n",
    "Amber's conglomerate corporation just acquired some new companies. Each of the companies follows this hierarchy: \n",
    "\n",
    "Founder => Lead Manager => Senior Manager => Manager => Employee\n",
    "\n",
    "Given the table schemas below, write a query to print the company_code, founder name, total number of lead managers, total number of senior managers, total number of managers, and total number of employees. Order your output by ascending company_code.\n",
    "\n",
    "Note:\n",
    "\n",
    "The tables may contain duplicate records.\n",
    "The company_code is string, so the sorting should not be numeric. For example, if the company_codes are C_1, C_2, and C_10, then the ascending company_codes will be C_1, C_10, and C_2."
   ]
  },
  {
   "cell_type": "code",
   "execution_count": null,
   "metadata": {},
   "outputs": [],
   "source": [
    "SELECT c.company_code, \n",
    "       c.founder, \n",
    "       COUNT(DISTINCT l.lead_manager_code), \n",
    "       COUNT(DISTINCT s.senior_manager_code), \n",
    "       COUNT(DISTINCT m.manager_code),\n",
    "       COUNT(DISTINCT e.employee_code) \n",
    "FROM Company c, Lead_Manager l, Senior_Manager s, Manager m, Employee e \n",
    "WHERE c.company_code = l.company_code \n",
    "  AND l.lead_manager_code=s.lead_manager_code \n",
    "  AND s.senior_manager_code=m.senior_manager_code \n",
    "  AND m.manager_code=e.manager_code \n",
    "GROUP BY c.company_code, c.founder \n",
    "ORDER BY 1;"
   ]
  },
  {
   "cell_type": "markdown",
   "metadata": {},
   "source": [
    "## Weather Observation Station 18\n",
    "Consider P1(a, b) and P2(c, d) to be two points on a 2D plane.\n",
    "\n",
    "a happens to equal the minimum value in Northern Latitude (LAT_N in STATION).\n",
    "\n",
    "b happens to equal the minimum value in Western Longitude (LONG_W in STATION).\n",
    "\n",
    "c happens to equal the maximum value in Northern Latitude (LAT_N in STATION).\n",
    "\n",
    "d happens to equal the maximum value in Western Longitude (LONG_W in STATION).\n",
    "\n",
    "Query the Manhattan Distance between points P1 and P2 and round it to a scale of  decimal places."
   ]
  },
  {
   "cell_type": "code",
   "execution_count": null,
   "metadata": {},
   "outputs": [],
   "source": [
    "SELECT ROUND((MAX(LAT_N) - MIN(LAT_N)) + (MAX(LONG_W) - MIN(LONG_W)), 4) \n",
    "FROM STATION;"
   ]
  },
  {
   "cell_type": "markdown",
   "metadata": {},
   "source": [
    "## Weather Observation Station 19\n",
    "Consider P1(a, c) and P2(b, d) to be two points on a 2D plane where (a, b) are the respective minimum and maximum values of Northern Latitude (LAT_N) and (c, d) are the respective minimum and maximum values of Western Longitude (LONG_W) in STATION.\n",
    "\n",
    "Query the Euclidean Distance between points P1 and P2 and format your answer to display  decimal digits."
   ]
  },
  {
   "cell_type": "code",
   "execution_count": null,
   "metadata": {},
   "outputs": [],
   "source": [
    "SELECT ROUND(SQRT(POWER(MAX(LAT_N) - MIN(LAT_N), 2) + POWER(MAX(LONG_W) - MIN(LONG_W), 2)), 4)\n",
    "FROM STATION;"
   ]
  },
  {
   "cell_type": "markdown",
   "metadata": {},
   "source": [
    "## Weather Observation Station 20\n",
    "A median is defined as a number separating the higher half of a data set from the lower half. Query the median of the Northern Latitudes (LAT_N) from STATION and round your answer to 4 decimal places."
   ]
  },
  {
   "cell_type": "code",
   "execution_count": null,
   "metadata": {},
   "outputs": [],
   "source": [
    "SET @N := 0;\n",
    "SELECT COUNT(*) FROM STATION INTO @Total;  # SET @Total = (SELECT COUNT(*) FROM STATION);\n",
    "\n",
    "SELECT ROUND(AVG(R.LAT_N), 4)\n",
    "FROM (SELECT @N := @N +1 AS ROW_ID, \n",
    "             LAT_N \n",
    "      FROM STATION \n",
    "      ORDER BY LAT_N) R\n",
    "WHERE CASE WHEN MOD(@Total, 2) = 0 THEN R.ROW_ID IN (@Total / 2, (@Total / 2 + 1))\n",
    "           ELSE R.ROW_ID = (@Total + 1) / 2\n",
    "      END\n",
    ";"
   ]
  },
  {
   "cell_type": "markdown",
   "metadata": {},
   "source": [
    "## The Report\n",
    "You are given two tables: Students and Grades. Students contains three columns ID, Name and Marks.\n",
    "\n",
    "Ketty gives Eve a task to generate a report containing three columns: Name, Grade and Mark. Ketty doesn't want the NAMES of those students who received a grade lower than 8. The report must be in descending order by grade -- i.e. higher grades are entered first. If there is more than one student with the same grade (8-10) assigned to them, order those particular students by their name alphabetically. Finally, if the grade is lower than 8, use \"NULL\" as their name and list them by their grades in descending order. If there is more than one student with the same grade (1-7) assigned to them, order those particular students by their marks in ascending order.\n",
    "\n",
    "Write a query to help Eve."
   ]
  },
  {
   "cell_type": "code",
   "execution_count": null,
   "metadata": {},
   "outputs": [],
   "source": [
    "SELECT IF(g.Grade < 8, 'NULL', s.Name), \n",
    "       g.Grade, \n",
    "       s.Marks \n",
    "FROM Students s\n",
    "JOIN Grades g \n",
    "ON s.Marks >= g.Min_Mark \n",
    "AND s.Marks <= g.Max_Mark \n",
    "ORDER BY g.Grade DESC, s.Name, s.Marks;"
   ]
  },
  {
   "cell_type": "markdown",
   "metadata": {},
   "source": [
    "## Top Competitors\n",
    "Julia just finished conducting a coding contest, and she needs your help assembling the leaderboard! Write a query to print the respective hacker_id and name of hackers who achieved full scores for more than one challenge. Order your output in descending order by the total number of challenges in which the hacker earned a full score. If more than one hacker received full scores in same number of challenges, then sort them by ascending hacker_id."
   ]
  },
  {
   "cell_type": "code",
   "execution_count": null,
   "metadata": {},
   "outputs": [],
   "source": [
    "SELECT h.hacker_id, h.name\n",
    "FROM submissions s\n",
    "JOIN challenges c\n",
    "  ON s.challenge_id = c.challenge_id\n",
    "JOIN difficulty d\n",
    "  ON c.difficulty_level = d.difficulty_level \n",
    "JOIN hackers h\n",
    "  ON s.hacker_id = h.hacker_id\n",
    "WHERE s.score = d.score\n",
    "GROUP BY h.hacker_id, h.name\n",
    "HAVING COUNT(s.hacker_id) > 1\n",
    "ORDER BY COUNT(s.hacker_id) DESC, s.hacker_id;"
   ]
  },
  {
   "cell_type": "markdown",
   "metadata": {},
   "source": [
    "## Ollivander's Inventory\n",
    "Harry Potter and his friends are at Ollivander's with Ron, finally replacing Charlie's old broken wand.\n",
    "\n",
    "Hermione decides the best way to choose is by determining the minimum number of gold galleons needed to buy each non-evil wand of high power and age. Write a query to print the id, age, coins_needed, and power of the wands that Ron's interested in, sorted in order of descending power. If more than one wand has same power, sort the result in order of descending age.\n"
   ]
  },
  {
   "cell_type": "code",
   "execution_count": null,
   "metadata": {},
   "outputs": [],
   "source": [
    "SELECT w.id, wp.age, w.coins_needed, w.power \n",
    "FROM Wands w \n",
    "JOIN Wands_Property wp \n",
    "  ON w.code = wp.code \n",
    "WHERE wp.is_evil = 0 \n",
    "AND w.coins_needed = (SELECT MIN(coins_needed) \n",
    "                      FROM Wands w1 \n",
    "                      JOIN Wands_Property wp1 \n",
    "                        ON w1.code = wp1.code \n",
    "                      WHERE w1.power = w.power \n",
    "                        AND wp1.age = wp.age)\n",
    "ORDER BY w.power DESC, wp.age DESC;"
   ]
  },
  {
   "cell_type": "markdown",
   "metadata": {},
   "source": [
    "## Challenges\n",
    "Julia asked her students to create some coding challenges. Write a query to print the hacker_id, name, and the total number of challenges created by each student. Sort your results by the total number of challenges in descending order. If more than one student created the same number of challenges, then sort the result by hacker_id. If more than one student created the same number of challenges and the count is less than the maximum number of challenges created, then exclude those students from the result."
   ]
  },
  {
   "cell_type": "code",
   "execution_count": null,
   "metadata": {},
   "outputs": [],
   "source": [
    "SELECT c.hacker_id, h.name, COUNT(c.challenge_id) AS created\n",
    "FROM Hackers h\n",
    "JOIN Challenges c\n",
    "ON h.hacker_id = c.hacker_id\n",
    "GROUP BY c.hacker_id, h.name\n",
    "HAVING created = (SELECT COUNT(c1.challenge_id) AS created1\n",
    "                  FROM Challenges c1\n",
    "                  GROUP BY c1.hacker_id\n",
    "                  ORDER BY created1 DESC\n",
    "                  LIMIT 1)\n",
    "OR created NOT IN (SELECT COUNT(c2.challenge_id)\n",
    "                   FROM Challenges c2\n",
    "                   GROUP BY c2.hacker_id\n",
    "                   HAVING c.hacker_id != c2.hacker_id)\n",
    "ORDER BY CREATED DESC, c.hacker_id;"
   ]
  },
  {
   "cell_type": "markdown",
   "metadata": {},
   "source": [
    "## Contest Leaderboard\n",
    "You did such a great job helping Julia with her last coding contest challenge that she wants you to work on this one, too!\n",
    "\n",
    "The total score of a hacker is the sum of their maximum scores for all of the challenges. Write a query to print the hacker_id, name, and total score of the hackers ordered by the descending score. If more than one hacker achieved the same total score, then sort the result by ascending hacker_id. Exclude all hackers with a total score of 0 from your result."
   ]
  },
  {
   "cell_type": "code",
   "execution_count": null,
   "metadata": {},
   "outputs": [],
   "source": [
    "SELECT sm.hacker_id, h.name, SUM(sm.max_score) \n",
    "FROM (SELECT hacker_id, challenge_id, MAX(score) AS max_score \n",
    "      FROM Submissions\n",
    "      GROUP BY hacker_id, challenge_id\n",
    "      HAVING MAX(score) > 0) sm \n",
    "JOIN hackers h\n",
    "  ON h.hacker_id = sm.hacker_id\n",
    "GROUP BY hacker_id, name\n",
    "ORDER BY 3 DESC, 1;"
   ]
  },
  {
   "cell_type": "markdown",
   "metadata": {},
   "source": [
    "## SQL Project Planning\n",
    "You are given a table, Projects, containing three columns: Task_ID, Start_Date and End_Date. It is guaranteed that the difference between the End_Date and the Start_Date is equal to 1 day for each row in the table.\n",
    "\n",
    "If the End_Date of the tasks are consecutive, then they are part of the same project. Samantha is interested in finding the total number of different projects completed.\n",
    "\n",
    "Write a query to output the start and end dates of projects listed by the number of days it took to complete the project in ascending order. If there is more than one project that have the same number of completion days, then order by the start date of the project."
   ]
  },
  {
   "cell_type": "code",
   "execution_count": null,
   "metadata": {},
   "outputs": [],
   "source": [
    "SELECT Start_Date, MIN(End_Date)\n",
    "FROM (SELECT Start_Date \n",
    "      FROM Projects \n",
    "      WHERE Start_Date NOT IN (SELECT End_Date FROM Projects)) a,\n",
    "     (SELECT End_date \n",
    "      FROM Projects \n",
    "      WHERE End_date NOT IN (SELECT Start_date FROM Projects)) b\n",
    "WHERE Start_date < End_date\n",
    "GROUP BY Start_date\n",
    "ORDER BY DATEDIFF(Start_date, MIN(End_date)) DESC, Start_date;"
   ]
  },
  {
   "cell_type": "markdown",
   "metadata": {},
   "source": [
    "## Placements\n",
    "You are given three tables: Students, Friends and Packages. Students contains two columns: ID and Name. Friends contains two columns: ID and Friend_ID (ID of the ONLY best friend). Packages contains two columns: ID and Salary (offered salary in $ thousands per month)."
   ]
  },
  {
   "cell_type": "code",
   "execution_count": null,
   "metadata": {},
   "outputs": [],
   "source": [
    "SELECT s.Name\n",
    "FROM students s \n",
    "JOIN Friends f ON s.ID=f.ID\n",
    "JOIN Packages p1 ON s.ID=p1.ID\n",
    "JOIN Packages p2 ON f.Friend_ID=p2.ID\n",
    "WHERE p2.Salary > p1.Salary\n",
    "ORDER BY p2.Salary;"
   ]
  },
  {
   "cell_type": "markdown",
   "metadata": {},
   "source": [
    "## Symmetric Pairs\n",
    "You are given a table, Functions, containing two columns: X and Y.\n",
    "\n",
    "Two pairs (X1, Y1) and (X2, Y2) are said to be symmetric pairs if X1 = Y2 and X2 = Y1.\n",
    "\n",
    "Write a query to output all such symmetric pairs in ascending order by the value of X. List the rows such that X1 ≤ Y1."
   ]
  },
  {
   "cell_type": "code",
   "execution_count": null,
   "metadata": {},
   "outputs": [],
   "source": [
    "SELECT f1.X, f1.Y\n",
    "FROM Functions f1 \n",
    "JOIN Functions f2 \n",
    "  ON f1.X = f2.Y AND f1.Y = f2.X\n",
    "GROUP BY f1.X, f1.Y\n",
    "HAVING COUNT(f1.X) > 1 OR f1.X < f1.Y\n",
    "ORDER BY f1.X;\n",
    "\n",
    "# The first condition in that line \n",
    "# makes sure pairs with the same X and Y values don't get to count themselves as their symmetric pair.\n",
    "\n",
    "# The second condition ensures that only one of a pair is displayed."
   ]
  },
  {
   "cell_type": "markdown",
   "metadata": {},
   "source": [
    "## Print Prime Numbers\n",
    "Write a query to print all prime numbers less than or equal to 1000. Print your result on a single line, and use the ampersand (&) character as your separator (instead of a space).\n",
    "\n",
    "For example, the output for all prime numbers <=10 would be:\n",
    "\n",
    "2&3&5&7"
   ]
  },
  {
   "cell_type": "code",
   "execution_count": null,
   "metadata": {},
   "outputs": [],
   "source": [
    "SET @potential_prime = 1;\n",
    "SET @divisor = 1;\n",
    "\n",
    "SELECT GROUP_CONCAT(POTENTIAL_PRIME SEPARATOR '&') \n",
    "FROM (SELECT @potential_prime := @potential_prime + 1 AS POTENTIAL_PRIME \n",
    "      FROM information_schema.tables t1,\n",
    "           information_schema.tables t2\n",
    "      LIMIT 1000) list_of_potential_primes\n",
    "WHERE NOT EXISTS (SELECT * \n",
    "                  FROM (SELECT @divisor := @divisor + 1 AS DIVISOR \n",
    "                        FROM information_schema.tables t3,\n",
    "                             information_schema.tables t4\n",
    "                        LIMIT 1000) list_of_divisors\n",
    "                  WHERE MOD(POTENTIAL_PRIME, DIVISOR) = 0 \n",
    "                    AND POTENTIAL_PRIME != DIVISOR);"
   ]
  },
  {
   "cell_type": "markdown",
   "metadata": {},
   "source": [
    "# Hard"
   ]
  },
  {
   "cell_type": "markdown",
   "metadata": {},
   "source": [
    "## Interviews (Hard)\n",
    "Samantha interviews many candidates from different colleges using coding challenges and contests. Write a query to print the contest_id, hacker_id, name, and the sums of total_submissions, total_accepted_submissions, total_views, and total_unique_views for each contest sorted by contest_id. Exclude the contest from the result if all four sums are 0.\n",
    "\n",
    "Note: A specific contest can be used to screen candidates at more than one college, but each college only holds 1 screening contest."
   ]
  },
  {
   "cell_type": "code",
   "execution_count": null,
   "metadata": {},
   "outputs": [],
   "source": [
    "SELECT con.contest_id,\n",
    "       con.hacker_id, \n",
    "       con.name, \n",
    "       SUM(total_submissions), \n",
    "       SUM(total_accepted_submissions), \n",
    "       SUM(total_views), \n",
    "       SUM(total_unique_views)\n",
    "FROM Contests con \n",
    "JOIN Colleges col \n",
    "  ON con.contest_id = col.contest_id \n",
    "JOIN challenges cha \n",
    "  ON col.college_id = cha.college_id \n",
    "LEFT JOIN (SELECT challenge_id, \n",
    "                  SUM(total_views) AS total_views, \n",
    "                  SUM(total_unique_views) AS total_unique_views\n",
    "           FROM View_Stats \n",
    "           GROUP BY challenge_id) vs \n",
    "  ON cha.challenge_id = vs.challenge_id \n",
    "LEFT JOIN (SELECT challenge_id, \n",
    "                  SUM(total_submissions) AS total_submissions, \n",
    "                  SUM(total_accepted_submissions) AS total_accepted_submissions \n",
    "           FROM Submission_Stats \n",
    "           GROUP BY challenge_id) ss \n",
    "  ON cha.challenge_id = ss.challenge_id\n",
    "GROUP BY con.contest_id, con.hacker_id, con.name\n",
    "HAVING SUM(total_submissions) !=0\n",
    "    OR SUM(total_accepted_submissions) != 0 \n",
    "    OR SUM(total_views) !=0 \n",
    "    OR SUM(total_unique_views) != 0\n",
    "ORDER BY contest_id;"
   ]
  },
  {
   "cell_type": "markdown",
   "metadata": {},
   "source": [
    "## 15 Days of Learning SQL\n",
    "Julia conducted a 15 days of learning SQL contest. The start date of the contest was March 01, 2016 and the end date was March 15, 2016.\n",
    "\n",
    "Write a query to print total number of unique hackers who made at least 1 submission each day (starting on the first day of the contest), and find the hacker_id and name of the hacker who made maximum number of submissions each day. If more than one such hacker has a maximum number of submissions, print the lowest hacker_id. The query should print this information for each day of the contest, sorted by the date."
   ]
  },
  {
   "cell_type": "code",
   "execution_count": null,
   "metadata": {},
   "outputs": [],
   "source": [
    "SELECT SUBMISSION_DATE,\n",
    "\n",
    "       (SELECT COUNT(DISTINCT HACKER_ID)\n",
    "        FROM SUBMISSIONS AS SUB2\n",
    "        WHERE SUB2.SUBMISSION_DATE=SUB1.SUBMISSION_DATE\n",
    "          AND (SELECT COUNT(DISTINCT SUBMISSION_DATE)\n",
    "               FROM SUBMISSIONS AS SUB3\n",
    "               WHERE SUB3.HACKER_ID = SUB2.HACKER_ID\n",
    "                 AND SUB3.SUBMISSION_DATE < SUB1.SUBMISSION_DATE) \n",
    "               =DATEDIFF(SUB1.SUBMISSION_DATE,'2016-03-01')),\n",
    "               \n",
    "       (SELECT HACKER_ID\n",
    "        FROM SUBMISSIONS AS SUB4\n",
    "        WHERE SUB4.SUBMISSION_DATE=SUB1.SUBMISSION_DATE\n",
    "        GROUP BY HACKER_ID\n",
    "        ORDER BY COUNT(SUBMISSION_ID) DESC, HACKER_ID \n",
    "        LIMIT 1) AS HID,\n",
    "        \n",
    "       (SELECT NAME\n",
    "        FROM HACKERS\n",
    "        WHERE HACKER_ID=HID)\n",
    "        \n",
    "FROM (SELECT DISTINCT SUBMISSION_DATE \n",
    "      FROM SUBMISSIONS) AS SUB1;"
   ]
  }
 ],
 "metadata": {
  "hide_input": false,
  "kernelspec": {
   "display_name": "Python 3",
   "language": "python",
   "name": "python3"
  },
  "language_info": {
   "codemirror_mode": {
    "name": "ipython",
    "version": 3
   },
   "file_extension": ".py",
   "mimetype": "text/x-python",
   "name": "python",
   "nbconvert_exporter": "python",
   "pygments_lexer": "ipython3",
   "version": "3.8.5"
  },
  "toc": {
   "base_numbering": 1,
   "nav_menu": {},
   "number_sections": true,
   "sideBar": true,
   "skip_h1_title": false,
   "title_cell": "Table of Contents",
   "title_sidebar": "Contents",
   "toc_cell": false,
   "toc_position": {},
   "toc_section_display": true,
   "toc_window_display": false
  }
 },
 "nbformat": 4,
 "nbformat_minor": 4
}

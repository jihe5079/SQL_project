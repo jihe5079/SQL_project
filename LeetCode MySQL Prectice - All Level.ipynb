{
 "cells": [
  {
   "cell_type": "markdown",
   "metadata": {},
   "source": [
    "# LeetCode MySQL - All Level"
   ]
  },
  {
   "cell_type": "markdown",
   "metadata": {},
   "source": [
    "## 175. Combine Two Tables"
   ]
  },
  {
   "cell_type": "code",
   "execution_count": null,
   "metadata": {},
   "outputs": [],
   "source": [
    "Write a SQL query for a report that provides the following information for each person in the Person table, \n",
    "regardless if there is an address for each of those people:\n",
    "\n",
    "FirstName, LastName, City, State"
   ]
  },
  {
   "cell_type": "code",
   "execution_count": null,
   "metadata": {},
   "outputs": [],
   "source": [
    "SELECT p.FirstName, p.LastName, a.City, a.State\n",
    "FROM Person p\n",
    "LEFT JOIN Address a\n",
    "ON p.PersonID=a.PersonID"
   ]
  },
  {
   "cell_type": "markdown",
   "metadata": {},
   "source": [
    "## 176. Second Highest Salary"
   ]
  },
  {
   "cell_type": "code",
   "execution_count": null,
   "metadata": {},
   "outputs": [],
   "source": [
    "Write a SQL query to get the second highest salary from the Employee table.\n",
    "\n",
    "+----+--------+\n",
    "| Id | Salary |\n",
    "+----+--------+\n",
    "| 1  | 100    |\n",
    "| 2  | 200    |\n",
    "| 3  | 300    |"
   ]
  },
  {
   "cell_type": "code",
   "execution_count": null,
   "metadata": {},
   "outputs": [],
   "source": [
    "SELECT MAX(Salary) AS SecondHighestSalary\n",
    "FROM Employee\n",
    "WHERE Salary < (SELECT MAX(Salary)\n",
    "                FROM Employee);\n",
    "\n",
    "# LIMIT First num: offset, second num: limit number\n",
    "SELECT DISTINCT Salary AS SecondHighestSalary\n",
    "FROM Employee\n",
    "ORDER BY Salary DESC\n",
    "LIMIT 1, 1;\n",
    "\n",
    "\n",
    "SELECT DISTINCT Salary AS SecondHighestSalary\n",
    "FROM Employee\n",
    "ORDER BY Salary DESC\n",
    "LIMIT 1 OFFSET 1;"
   ]
  },
  {
   "cell_type": "markdown",
   "metadata": {},
   "source": [
    "## 177. Nth Highest Salary"
   ]
  },
  {
   "cell_type": "code",
   "execution_count": null,
   "metadata": {},
   "outputs": [],
   "source": [
    "Write a SQL query to get the nth highest salary from the Employee table.\n",
    "\n",
    "+----+--------+\n",
    "| Id | Salary |\n",
    "+----+--------+\n",
    "| 1  | 100    |\n",
    "| 2  | 200    |\n",
    "| 3  | 300    |"
   ]
  },
  {
   "cell_type": "code",
   "execution_count": null,
   "metadata": {},
   "outputs": [],
   "source": [
    "CREATE FUNCTION getNhHighestSalary(N INT) RETURNS INT\n",
    "BEGIN\n",
    "  DECLARE p INT;\n",
    "  SET p = N - 1;\n",
    "  RETURN (\n",
    "      SELECT DISTINCT Salary\n",
    "      FROM Employee\n",
    "      ORDER BY Salary DESC\n",
    "      LIMIT p, 1\n",
    "  );\n",
    "END"
   ]
  },
  {
   "cell_type": "markdown",
   "metadata": {},
   "source": [
    "## 178. Rank Scores"
   ]
  },
  {
   "cell_type": "code",
   "execution_count": null,
   "metadata": {},
   "outputs": [],
   "source": [
    "Write a SQL query to rank scores. If there is a tie between two scores, both should have the same ranking. \n",
    "Note that after a tie, the next ranking number should be the next consecutive integer value. \n",
    "In other words, there should be no \"holes\" between ranks.\n",
    "\n",
    "+----+-------+\n",
    "| Id | Score |\n",
    "+----+-------+\n",
    "| 1  | 3.50  |\n",
    "| 2  | 3.65  |\n",
    "| 3  | 4.00  |\n",
    "| 4  | 3.85  |\n",
    "| 5  | 4.00  |\n",
    "| 6  | 3.65  |"
   ]
  },
  {
   "cell_type": "code",
   "execution_count": null,
   "metadata": {},
   "outputs": [],
   "source": [
    "SELECT Score,\n",
    "DENSE_RANK() OVER (ORDER BY Score DESC) AS 'Rank'\n",
    "FROM Scores;"
   ]
  },
  {
   "cell_type": "markdown",
   "metadata": {},
   "source": [
    "## 180. Consecutive Numbers"
   ]
  },
  {
   "cell_type": "code",
   "execution_count": null,
   "metadata": {},
   "outputs": [],
   "source": [
    "Write a SQL query to find all numbers that appear at least three times consecutively.\n",
    "\n",
    "+----+-----+\n",
    "| Id | Num |\n",
    "+----+-----+\n",
    "| 1  |  1  |\n",
    "| 2  |  1  |\n",
    "| 3  |  1  |\n",
    "| 4  |  2  |\n",
    "| 5  |  1  |\n",
    "| 6  |  2  |\n",
    "| 7  |  2  |"
   ]
  },
  {
   "cell_type": "code",
   "execution_count": null,
   "metadata": {},
   "outputs": [],
   "source": [
    "# Straight forward solution\n",
    "WITH temp AS(\n",
    "SELECT l1.Num as ConsecutiveNums\n",
    "FROM Logs l1, Logs l2, Logs l3\n",
    "WHERE l1.Id = l2.Id - 1\n",
    "AND l2.Id = l3.Id - 1\n",
    "AND l1.Num = l2.Num\n",
    "AND l2.Num = l3.Num\n",
    "ORDER BY l1.Id)\n",
    "\n",
    "SELECT ConsecutiveNums\n",
    "FROM temp\n",
    "GROUP BY ConsecutiveNums;\n",
    "\n",
    "# Quick sol.\n",
    "SELECT DISTINCT(Num) ConsecutiveNums\n",
    "FROM (SELECT Num, \n",
    "             LEAD(num, 1) OVER () next_num1, \n",
    "             LEAD(Num, 2) OVER () next_num2\n",
    "      FROM Logs) temp\n",
    "WHERE Num = next_num1 \n",
    "AND Num = next_num2 \n",
    "AND next_num1 = next_num2;"
   ]
  },
  {
   "cell_type": "markdown",
   "metadata": {},
   "source": [
    "## 181. Employees Earning More Than Their Managers"
   ]
  },
  {
   "cell_type": "code",
   "execution_count": null,
   "metadata": {},
   "outputs": [],
   "source": [
    "The Employee table holds all employees including their managers. \n",
    "Every employee has an Id, and there is also a column for the manager Id.\n",
    "\n",
    "+----+-------+--------+-----------+\n",
    "| Id | Name  | Salary | ManagerId |\n",
    "+----+-------+--------+-----------+\n",
    "| 1  | Joe   | 70000  | 3         |\n",
    "| 2  | Henry | 80000  | 4         |\n",
    "| 3  | Sam   | 60000  | NULL      |\n",
    "| 4  | Max   | 90000  | NULL      |\n",
    "+----+-------+--------+-----------+\n",
    "Given the Employee table, write a SQL query that finds out employees who earn more than their managers. \n",
    "For the above table, Joe is the only employee who earns more than his manager.\n",
    "\n",
    "+----------+\n",
    "| Employee |\n",
    "+----------+\n",
    "| Joe      |"
   ]
  },
  {
   "cell_type": "code",
   "execution_count": null,
   "metadata": {},
   "outputs": [],
   "source": [
    "# Join\n",
    "SELECT e1.Name AS Employee \n",
    "FROM Employee e1\n",
    "JOIN Employee e2\n",
    "  ON e1.ManagerID=e2.ID\n",
    "  AND e1.Salary > e2.Salary;\n",
    "\n",
    "# Cartesian Product\n",
    "SELECT e1.Name AS Employee \n",
    "FROM Employee e1, Employee e2\n",
    "WHERE e1.ManagerID=e2.ID\n",
    "AND e1.Salary > e2.Salary;"
   ]
  },
  {
   "cell_type": "markdown",
   "metadata": {},
   "source": [
    "## 182. Duplicate Emails"
   ]
  },
  {
   "cell_type": "code",
   "execution_count": null,
   "metadata": {},
   "outputs": [],
   "source": [
    "Write a SQL query to find all duplicate emails in a table named Person.\n",
    "\n",
    "+----+---------+\n",
    "| Id | Email   |\n",
    "+----+---------+\n",
    "| 1  | a@b.com |\n",
    "| 2  | c@d.com |\n",
    "| 3  | a@b.com |"
   ]
  },
  {
   "cell_type": "code",
   "execution_count": null,
   "metadata": {},
   "outputs": [],
   "source": [
    "SELECT Email\n",
    "FROM Person\n",
    "GROUP BY Email\n",
    "HAVING count(Email) > 1;"
   ]
  },
  {
   "cell_type": "markdown",
   "metadata": {},
   "source": [
    "## 183. Customers Who Never Order"
   ]
  },
  {
   "cell_type": "code",
   "execution_count": null,
   "metadata": {},
   "outputs": [],
   "source": [
    "Suppose that a website contains two tables, the Customers table and the Orders table. \n",
    "Write a SQL query to find all customers who never order anything.\n",
    "\n",
    "Table: Customers.\n",
    "\n",
    "+----+-------+\n",
    "| Id | Name  |\n",
    "+----+-------+\n",
    "| 1  | Joe   |\n",
    "| 2  | Henry |\n",
    "| 3  | Sam   |\n",
    "| 4  | Max   |\n",
    "+----+-------+\n",
    "Table: Orders.\n",
    "\n",
    "+----+------------+\n",
    "| Id | CustomerId |\n",
    "+----+------------+\n",
    "| 1  | 3          |\n",
    "| 2  | 1          |\n",
    "+----+------------+\n",
    "Using the above tables as example, return the following:\n",
    "\n",
    "+-----------+\n",
    "| Customers |\n",
    "+-----------+\n",
    "| Henry     |\n",
    "| Max       |"
   ]
  },
  {
   "cell_type": "code",
   "execution_count": null,
   "metadata": {},
   "outputs": [],
   "source": [
    "SELECT c.Name AS Customers\n",
    "FROM Customers c\n",
    "LEFT JOIN Orders o\n",
    "ON c.ID=o.CustomerID\n",
    "WHERE o.CustomerID IS NULL;"
   ]
  },
  {
   "cell_type": "markdown",
   "metadata": {},
   "source": [
    "## 184. Department Highest Salary"
   ]
  },
  {
   "cell_type": "code",
   "execution_count": null,
   "metadata": {},
   "outputs": [],
   "source": [
    "The Employee table holds all employees. Every employee has an Id, a salary, and there is also a column for the department Id.\n",
    "\n",
    "+----+-------+--------+--------------+\n",
    "| Id | Name  | Salary | DepartmentId |\n",
    "+----+-------+--------+--------------+\n",
    "| 1  | Joe   | 70000  | 1            |\n",
    "| 2  | Jim   | 90000  | 1            |\n",
    "| 3  | Henry | 80000  | 2            |\n",
    "| 4  | Sam   | 60000  | 2            |\n",
    "| 5  | Max   | 90000  | 1            |\n",
    "+----+-------+--------+--------------+\n",
    "The Department table holds all departments of the company.\n",
    "\n",
    "+----+----------+\n",
    "| Id | Name     |\n",
    "+----+----------+\n",
    "| 1  | IT       |\n",
    "| 2  | Sales    |\n",
    "+----+----------+\n",
    "Write a SQL query to find employees who have the highest salary in each of the departments. \n",
    "For the above tables, your SQL query should return the following rows (order of rows does not matter).\n",
    "\n",
    "+------------+----------+--------+\n",
    "| Department | Employee | Salary |\n",
    "+------------+----------+--------+\n",
    "| IT         | Max      | 90000  |\n",
    "| IT         | Jim      | 90000  |\n",
    "| Sales      | Henry    | 80000  |\n",
    "+------------+----------+--------+\n",
    "Explanation:\n",
    "\n",
    "Max and Jim both have the highest salary in the IT department and Henry has the highest salary in the Sales department."
   ]
  },
  {
   "cell_type": "code",
   "execution_count": null,
   "metadata": {},
   "outputs": [],
   "source": [
    "SELECT d.Name as Department, e.Name as Employee, e.Salary\n",
    "FROM Employee as e\n",
    "JOIN Department d\n",
    "  ON e.DepartmentId = d.Id\n",
    "JOIN (SELECT MAX(Salary) AS Salary, DepartmentId\n",
    "      FROM Employee\n",
    "      GROUP BY DepartmentId) maxs\n",
    "  ON e.DepartmentId = maxs.DepartmentId\n",
    "  AND e.Salary = maxs.Salary;\n",
    "\n",
    "# OR\n",
    "SELECT d.Name as Department, e.Name as Employee, e.Salary\n",
    "FROM Employee as e\n",
    "JOIN Department d\n",
    "  ON e.DepartmentId = d.Id\n",
    "WHERE (e.DepartmentId, e.Salary) IN (SELECT DepartmentId, MAX(Salary) AS Salary\n",
    "                                     FROM Employee\n",
    "                                     GROUP BY DepartmentId);"
   ]
  },
  {
   "cell_type": "markdown",
   "metadata": {},
   "source": [
    "## 185. Department Top Three Salaries (Hard)"
   ]
  },
  {
   "cell_type": "code",
   "execution_count": null,
   "metadata": {},
   "outputs": [],
   "source": [
    "The Employee table holds all employees. Every employee has an Id, and there is also a column for the department Id.\n",
    "\n",
    "+----+-------+--------+--------------+\n",
    "| Id | Name  | Salary | DepartmentId |\n",
    "+----+-------+--------+--------------+\n",
    "| 1  | Joe   | 85000  | 1            |\n",
    "| 2  | Henry | 80000  | 2            |\n",
    "| 3  | Sam   | 60000  | 2            |\n",
    "| 4  | Max   | 90000  | 1            |\n",
    "| 5  | Janet | 69000  | 1            |\n",
    "| 6  | Randy | 85000  | 1            |\n",
    "| 7  | Will  | 70000  | 1            |\n",
    "+----+-------+--------+--------------+\n",
    "The Department table holds all departments of the company.\n",
    "\n",
    "+----+----------+\n",
    "| Id | Name     |\n",
    "+----+----------+\n",
    "| 1  | IT       |\n",
    "| 2  | Sales    |\n",
    "+----+----------+\n",
    "Write a SQL query to find employees who earn the top three salaries in each of the department. \n",
    "For the above tables, your SQL query should return the following rows (order of rows does not matter).\n",
    "\n",
    "+------------+----------+--------+\n",
    "| Department | Employee | Salary |\n",
    "+------------+----------+--------+\n",
    "| IT         | Max      | 90000  |\n",
    "| IT         | Randy    | 85000  |\n",
    "| IT         | Joe      | 85000  |\n",
    "| IT         | Will     | 70000  |\n",
    "| Sales      | Henry    | 80000  |\n",
    "| Sales      | Sam      | 60000  |\n",
    "+------------+----------+--------+\n",
    "Explanation:\n",
    "\n",
    "In IT department, Max earns the highest salary, both Randy and Joe earn the second highest salary, \n",
    "and Will earns the third highest salary. There are only two employees in the Sales department, \n",
    "Henry earns the highest salary while Sam earns the second highest salary."
   ]
  },
  {
   "cell_type": "code",
   "execution_count": null,
   "metadata": {},
   "outputs": [],
   "source": [
    "SELECT d.Name AS Department, e2.Name AS Employee, e2.Salary\n",
    "FROM (SELECT e1.*, \n",
    "             DENSE_RANK() OVER (PARTITION BY DepartmentId ORDER BY Salary DESC) AS RankSalary\n",
    "      FROM Employee e1) e2\n",
    "   JOIN Department d ON e2.DepartmentId=d.ID\n",
    "WHERE e2.RankSalary <= 3;"
   ]
  },
  {
   "cell_type": "markdown",
   "metadata": {},
   "source": [
    "## 196. Delete Duplicate Emails"
   ]
  },
  {
   "cell_type": "code",
   "execution_count": null,
   "metadata": {},
   "outputs": [],
   "source": [
    "Write a SQL query to delete all duplicate email entries in a table named Person, \n",
    "keeping only unique emails based on its smallest Id.\n",
    "\n",
    "+----+------------------+\n",
    "| Id | Email            |\n",
    "+----+------------------+\n",
    "| 1  | john@example.com |\n",
    "| 2  | bob@example.com  |\n",
    "| 3  | john@example.com |\n",
    "+----+------------------+\n",
    "Id is the primary key column for this table.\n",
    "For example, after running your query, the above Person table should have the following rows:\n",
    "\n",
    "+----+------------------+\n",
    "| Id | Email            |\n",
    "+----+------------------+\n",
    "| 1  | john@example.com |\n",
    "| 2  | bob@example.com  |\n",
    "+----+------------------+\n",
    "Note:\n",
    "\n",
    "Your output is the whole Person table after executing your sql. Use delete statement."
   ]
  },
  {
   "cell_type": "code",
   "execution_count": null,
   "metadata": {},
   "outputs": [],
   "source": [
    "DELETE p1 \n",
    "FROM Person p1, Person p2\n",
    "WHERE p1.Email = p2.Email \n",
    "AND p1.Id > p2.Id;"
   ]
  },
  {
   "cell_type": "markdown",
   "metadata": {},
   "source": [
    "## 197. Rising Temperature"
   ]
  },
  {
   "cell_type": "code",
   "execution_count": null,
   "metadata": {},
   "outputs": [],
   "source": [
    "Table: Weather\n",
    "\n",
    "+---------------+---------+\n",
    "| Column Name   | Type    |\n",
    "+---------------+---------+\n",
    "| id            | int     |\n",
    "| recordDate    | date    |\n",
    "| temperature   | int     |\n",
    "+---------------+---------+\n",
    "id is the primary key for this table.\n",
    "This table contains information about the temperature in a certain day.\n",
    " \n",
    "\n",
    "Write an SQL query to find all dates' id with higher temperature compared to its previous dates (yesterday).\n",
    "\n",
    "Return the result table in any order.\n",
    "\n",
    "The query result format is in the following example:\n",
    "\n",
    "Weather\n",
    "+----+------------+-------------+\n",
    "| id | recordDate | Temperature |\n",
    "+----+------------+-------------+\n",
    "| 1  | 2015-01-01 | 10          |\n",
    "| 2  | 2015-01-02 | 25          |\n",
    "| 3  | 2015-01-03 | 20          |\n",
    "| 4  | 2015-01-04 | 30          |\n",
    "+----+------------+-------------+\n",
    "\n",
    "Result table:\n",
    "+----+\n",
    "| id |\n",
    "+----+\n",
    "| 2  |\n",
    "| 4  |\n",
    "+----+\n",
    "In 2015-01-02, temperature was higher than the previous day (10 -> 25).\n",
    "In 2015-01-04, temperature was higher than the previous day (30 -> 20)."
   ]
  },
  {
   "cell_type": "code",
   "execution_count": null,
   "metadata": {},
   "outputs": [],
   "source": [
    "SELECT w1.id \n",
    "FROM Weather w1, Weather w2\n",
    "WHERE w1.Temperature > w2.Temperature\n",
    "AND w1.RecordDate = w2.RecordDate + INTERVAL 1 DAY;"
   ]
  },
  {
   "cell_type": "markdown",
   "metadata": {
    "ExecuteTime": {
     "end_time": "2020-09-11T07:39:34.698368Z",
     "start_time": "2020-09-11T07:39:34.680416Z"
    }
   },
   "source": [
    "## 262. Trips and Users (Hard)"
   ]
  },
  {
   "cell_type": "code",
   "execution_count": null,
   "metadata": {},
   "outputs": [],
   "source": [
    "The Trips table holds all taxi trips. Each trip has a unique Id, \n",
    "while Client_Id and Driver_Id are both foreign keys to the Users_Id at the Users table. \n",
    "Status is an ENUM type of (‘completed’, ‘cancelled_by_driver’, ‘cancelled_by_client’).\n",
    "\n",
    "+----+-----------+-----------+---------+--------------------+----------+\n",
    "| Id | Client_Id | Driver_Id | City_Id |        Status      |Request_at|\n",
    "+----+-----------+-----------+---------+--------------------+----------+\n",
    "| 1  |     1     |    10     |    1    |     completed      |2013-10-01|\n",
    "| 2  |     2     |    11     |    1    | cancelled_by_driver|2013-10-01|\n",
    "| 3  |     3     |    12     |    6    |     completed      |2013-10-01|\n",
    "| 4  |     4     |    13     |    6    | cancelled_by_client|2013-10-01|\n",
    "| 5  |     1     |    10     |    1    |     completed      |2013-10-02|\n",
    "| 6  |     2     |    11     |    6    |     completed      |2013-10-02|\n",
    "| 7  |     3     |    12     |    6    |     completed      |2013-10-02|\n",
    "| 8  |     2     |    12     |    12   |     completed      |2013-10-03|\n",
    "| 9  |     3     |    10     |    12   |     completed      |2013-10-03| \n",
    "| 10 |     4     |    13     |    12   | cancelled_by_driver|2013-10-03|\n",
    "+----+-----------+-----------+---------+--------------------+----------+\n",
    "The Users table holds all users. Each user has an unique Users_Id, \n",
    "and Role is an ENUM type of (‘client’, ‘driver’, ‘partner’).\n",
    "\n",
    "+----------+--------+--------+\n",
    "| Users_Id | Banned |  Role  |\n",
    "+----------+--------+--------+\n",
    "|    1     |   No   | client |\n",
    "|    2     |   Yes  | client |\n",
    "|    3     |   No   | client |\n",
    "|    4     |   No   | client |\n",
    "|    10    |   No   | driver |\n",
    "|    11    |   No   | driver |\n",
    "|    12    |   No   | driver |\n",
    "|    13    |   No   | driver |\n",
    "+----------+--------+--------+\n",
    "Write a SQL query to find the cancellation rate of requests made by unbanned users (both client and driver must be unbanned) \n",
    "between Oct 1, 2013 and Oct 3, 2013. \n",
    "The cancellation rate is computed by dividing the number of canceled (by client or driver) requests \n",
    "made by unbanned users by the total number of requests made by unbanned users.\n",
    "\n",
    "For the above tables, your SQL query should return the following rows with the cancellation rate being rounded to \n",
    "two decimal places.\n",
    "\n",
    "+------------+-------------------+\n",
    "|     Day    | Cancellation Rate |\n",
    "+------------+-------------------+\n",
    "| 2013-10-01 |       0.33        |\n",
    "| 2013-10-02 |       0.00        |\n",
    "| 2013-10-03 |       0.50        |"
   ]
  },
  {
   "cell_type": "code",
   "execution_count": null,
   "metadata": {},
   "outputs": [],
   "source": [
    "SELECT t.Request_at AS Day,\n",
    "ROUND(SUM(IF(Status = 'completed', 0, 1))/COUNT(*), 2) AS 'Cancellation Rate'\n",
    "FROM Trips t\n",
    "JOIN Users u1 ON t.Client_Id=u1.Users_Id\n",
    "JOIN Users u2 ON t.Driver_Id=u2.Users_Id \n",
    "WHERE u1.Banned != 'Yes' \n",
    "  AND u2.Banned != 'Yes'  \n",
    "  AND t.Request_at BETWEEN '2013-10-01' AND '2013-10-03' \n",
    "GROUP BY t.Request_at\n",
    "ORDER BY 1;"
   ]
  },
  {
   "cell_type": "markdown",
   "metadata": {},
   "source": [
    "## 595. Big Countries"
   ]
  },
  {
   "cell_type": "code",
   "execution_count": null,
   "metadata": {},
   "outputs": [],
   "source": [
    "There is a table World\n",
    "\n",
    "+-----------------+------------+------------+--------------+---------------+\n",
    "| name            | continent  | area       | population   | gdp           |\n",
    "+-----------------+------------+------------+--------------+---------------+\n",
    "| Afghanistan     | Asia       | 652230     | 25500100     | 20343000      |\n",
    "| Albania         | Europe     | 28748      | 2831741      | 12960000      |\n",
    "| Algeria         | Africa     | 2381741    | 37100000     | 188681000     |\n",
    "| Andorra         | Europe     | 468        | 78115        | 3712000       |\n",
    "| Angola          | Africa     | 1246700    | 20609294     | 100990000     |\n",
    "+-----------------+------------+------------+--------------+---------------+\n",
    "A country is big if it has an area of bigger than 3 million square km or a population of more than 25 million.\n",
    "\n",
    "Write a SQL solution to output big countries' name, population and area.\n",
    "\n",
    "For example, according to the above table, we should output:\n",
    "\n",
    "+--------------+-------------+--------------+\n",
    "| name         | population  | area         |\n",
    "+--------------+-------------+--------------+\n",
    "| Afghanistan  | 25500100    | 652230       |\n",
    "| Algeria      | 37100000    | 2381741      |"
   ]
  },
  {
   "cell_type": "code",
   "execution_count": null,
   "metadata": {},
   "outputs": [],
   "source": [
    "SELECT name, population, area\n",
    "FROM World\n",
    "WHERE population > 25000000\n",
    "OR area > 3000000;"
   ]
  },
  {
   "cell_type": "markdown",
   "metadata": {},
   "source": [
    "## 596. Classes More Than 5 Students"
   ]
  },
  {
   "cell_type": "code",
   "execution_count": null,
   "metadata": {},
   "outputs": [],
   "source": [
    "There is a table courses with columns: student and class\n",
    "\n",
    "Please list out all classes which have more than or equal to 5 students.\n",
    "\n",
    "For example, the table:\n",
    "\n",
    "+---------+------------+\n",
    "| student | class      |\n",
    "+---------+------------+\n",
    "| A       | Math       |\n",
    "| B       | English    |\n",
    "| C       | Math       |\n",
    "| D       | Biology    |\n",
    "| E       | Math       |\n",
    "| F       | Computer   |\n",
    "| G       | Math       |\n",
    "| H       | Math       |\n",
    "| I       | Math       |\n",
    "+---------+------------+\n",
    "Should output:\n",
    "\n",
    "+---------+\n",
    "| class   |\n",
    "+---------+\n",
    "| Math    |\n",
    "+---------+\n",
    " \n",
    "\n",
    "Note:\n",
    "The students should not be counted duplicate in each course."
   ]
  },
  {
   "cell_type": "code",
   "execution_count": null,
   "metadata": {},
   "outputs": [],
   "source": [
    "SELECT class\n",
    "FROM courses\n",
    "GROUP BY class\n",
    "HAVING COUNT(DISTINCT student) >= 5;"
   ]
  },
  {
   "cell_type": "markdown",
   "metadata": {},
   "source": [
    "## 601. Human Traffic of Stadium"
   ]
  },
  {
   "cell_type": "code",
   "execution_count": null,
   "metadata": {},
   "outputs": [],
   "source": [
    "X city built a new stadium, each day many people visit it and the stats are saved as these columns: id, visit_date, people\n",
    "\n",
    "Please write a query to display the records which have 3 or more consecutive rows and the amount of people more than 100\n",
    "(inclusive).\n",
    "\n",
    "For example, the table stadium:\n",
    "+------+------------+-----------+\n",
    "| id   | visit_date | people    |\n",
    "+------+------------+-----------+\n",
    "| 1    | 2017-01-01 | 10        |\n",
    "| 2    | 2017-01-02 | 109       |\n",
    "| 3    | 2017-01-03 | 150       |\n",
    "| 4    | 2017-01-04 | 99        |\n",
    "| 5    | 2017-01-05 | 145       |\n",
    "| 6    | 2017-01-06 | 1455      |\n",
    "| 7    | 2017-01-07 | 199       |\n",
    "| 8    | 2017-01-08 | 188       |\n",
    "+------+------------+-----------+\n",
    "For the sample data above, the output is:\n",
    "\n",
    "+------+------------+-----------+\n",
    "| id   | visit_date | people    |\n",
    "+------+------------+-----------+\n",
    "| 5    | 2017-01-05 | 145       |\n",
    "| 6    | 2017-01-06 | 1455      |\n",
    "| 7    | 2017-01-07 | 199       |\n",
    "| 8    | 2017-01-08 | 188       |\n",
    "+------+------------+-----------+\n",
    "Note:\n",
    "Each day only have one row record, and the dates are increasing with id increasing."
   ]
  },
  {
   "cell_type": "code",
   "execution_count": null,
   "metadata": {},
   "outputs": [],
   "source": [
    "# Use LEAD(), LAG() function \n",
    "WITH Consecutive AS (SELECT *,\n",
    "                            LEAD(people, 1, NULL) OVER() AS people_lead1,\n",
    "                            LEAD(people, 2, NULL) OVER() AS people_lead2,\n",
    "                            LAG(people, 1, NULL) OVER() AS people_lag1,\n",
    "                            LAG(people, 2, NULL) OVER() AS people_lag2\n",
    "                     FROM stadium)\n",
    "\n",
    "SELECT id, visit_date, people \n",
    "FROM Consecutive\n",
    "WHERE (people >= 100 \n",
    "       AND people_lead1 >= 100\n",
    "       AND people_lead2 >= 100)\n",
    "# 1st one\n",
    "\n",
    "OR (people >= 100\n",
    "    AND people_lag1 >= 100\n",
    "    AND people_lead1 >= 100)\n",
    "# 2nd one\n",
    "\n",
    "OR (people  >=100\n",
    "    AND people_lag1 >= 100\n",
    "    AND people_lag2 >= 100);\n",
    "# 3rd one"
   ]
  },
  {
   "cell_type": "code",
   "execution_count": null,
   "metadata": {},
   "outputs": [],
   "source": [
    "# Product\n",
    "SELECT DISTINCT s1.*\n",
    "FROM stadium s1\n",
    "JOIN stadium s2\n",
    "JOIN stadium s3\n",
    "ON ((s1.id = s2.id - 1 AND s1.id = s3.id -2) # s1 s2 s3: 1st order\n",
    " OR (s3.id = s1.id - 1 AND s3.id = s2.id -2) # s3 s1 s2: 2nd order\n",
    " OR (s2.id = s3.id - 1 AND s2.id = s1.id -2)) # s2 s3 s1: 3rd order\n",
    "WHERE s1.people >= 100\n",
    "  AND s2.people >= 100\n",
    "  AND s3.people >= 100\n",
    "ORDER BY s1.id;"
   ]
  },
  {
   "cell_type": "markdown",
   "metadata": {},
   "source": [
    "## 620. Not Boring Movies"
   ]
  },
  {
   "cell_type": "code",
   "execution_count": null,
   "metadata": {},
   "outputs": [],
   "source": [
    "X city opened a new cinema, many people would like to go to this cinema. \n",
    "The cinema also gives out a poster indicating the movies’ ratings and descriptions.\n",
    "Please write a SQL query to output movies with an odd numbered ID and a description that is not 'boring'. \n",
    "Order the result by rating.\n",
    "\n",
    "For example, table cinema:\n",
    "\n",
    "+---------+-----------+--------------+-----------+\n",
    "|   id    | movie     |  description |  rating   |\n",
    "+---------+-----------+--------------+-----------+\n",
    "|   1     | War       |   great 3D   |   8.9     |\n",
    "|   2     | Science   |   fiction    |   8.5     |\n",
    "|   3     | irish     |   boring     |   6.2     |\n",
    "|   4     | Ice song  |   Fantacy    |   8.6     |\n",
    "|   5     | House card|   Interesting|   9.1     |\n",
    "+---------+-----------+--------------+-----------+\n",
    "For the example above, the output should be:\n",
    "+---------+-----------+--------------+-----------+\n",
    "|   id    | movie     |  description |  rating   |\n",
    "+---------+-----------+--------------+-----------+\n",
    "|   5     | House card|   Interesting|   9.1     |\n",
    "|   1     | War       |   great 3D   |   8.9     |"
   ]
  },
  {
   "cell_type": "code",
   "execution_count": null,
   "metadata": {},
   "outputs": [],
   "source": [
    "SELECT * FROM cinema\n",
    "WHERE description != 'boring'\n",
    "AND (id % 2 = 1)\n",
    "ORDER BY 4 DESC;"
   ]
  },
  {
   "cell_type": "markdown",
   "metadata": {},
   "source": [
    "## 626. Exchange Seats"
   ]
  },
  {
   "cell_type": "code",
   "execution_count": null,
   "metadata": {},
   "outputs": [],
   "source": [
    "Mary is a teacher in a middle school and she has a table seat storing students' names and their corresponding seat ids.\n",
    "The column id is continuous increment.\n",
    "Mary wants to change seats for the adjacent students.\n",
    "Can you write a SQL query to output the result for Mary?\n",
    "\n",
    "+---------+---------+\n",
    "|    id   | student |\n",
    "+---------+---------+\n",
    "|    1    | Abbot   |\n",
    "|    2    | Doris   |\n",
    "|    3    | Emerson |\n",
    "|    4    | Green   |\n",
    "|    5    | Jeames  |\n",
    "+---------+---------+\n",
    "\n",
    "For the sample input, the output is:\n",
    "\n",
    "+---------+---------+\n",
    "|    id   | student |\n",
    "+---------+---------+\n",
    "|    1    | Doris   |\n",
    "|    2    | Abbot   |\n",
    "|    3    | Green   |\n",
    "|    4    | Emerson |\n",
    "|    5    | Jeames  |\n",
    "+---------+---------+\n",
    "Note:\n",
    "If the number of students is odd, there is no need to change the last one's seat."
   ]
  },
  {
   "cell_type": "code",
   "execution_count": null,
   "metadata": {},
   "outputs": [],
   "source": [
    "SELECT (CASE WHEN id != (SELECT MAX(id) FROM Seat) AND id % 2 = 1 THEN id + 1\n",
    "             WHEN id % 2 = 0 THEN id - 1 \n",
    "             ELSE id\n",
    "        END) AS id,\n",
    "        student\n",
    "FROM Seat\n",
    "ORDER BY id;"
   ]
  },
  {
   "cell_type": "markdown",
   "metadata": {},
   "source": [
    "## 627. Swap Salary"
   ]
  },
  {
   "cell_type": "code",
   "execution_count": null,
   "metadata": {},
   "outputs": [],
   "source": [
    "Given a table salary, such as the one below, that has m=male and f=female values. \n",
    "Swap all f and m values (i.e., change all f values to m and vice versa) with a single update statement \n",
    "and no intermediate temp table.\n",
    "\n",
    "Note that you must write a single update statement, DO NOT write any select statement for this problem.\n",
    "\n",
    "Example:\n",
    "\n",
    "| id | name | sex | salary |\n",
    "|----|------|-----|--------|\n",
    "| 1  | A    | m   | 2500   |\n",
    "| 2  | B    | f   | 1500   |\n",
    "| 3  | C    | m   | 5500   |\n",
    "| 4  | D    | f   | 500    |\n",
    "\n",
    "After running your update statement, the above salary table should have the following rows:\n",
    "| id | name | sex | salary |\n",
    "|----|------|-----|--------|\n",
    "| 1  | A    | f   | 2500   |\n",
    "| 2  | B    | m   | 1500   |\n",
    "| 3  | C    | f   | 5500   |\n",
    "| 4  | D    | m   | 500    |"
   ]
  },
  {
   "cell_type": "code",
   "execution_count": null,
   "metadata": {},
   "outputs": [],
   "source": [
    "Update salary\n",
    "SET sex = IF(sex = 'm', 'f', 'm');\n",
    "\n",
    "Update salary\n",
    "SET sex = CASE sex WHEN 'm' THEN 'f'\n",
    "                   WHEN 'f' THEN 'm'\n",
    "          END;"
   ]
  },
  {
   "cell_type": "markdown",
   "metadata": {},
   "source": [
    "## 1179. Reformat Department Table"
   ]
  },
  {
   "cell_type": "code",
   "execution_count": null,
   "metadata": {},
   "outputs": [],
   "source": [
    "Table: Department\n",
    "\n",
    "+---------------+---------+\n",
    "| Column Name   | Type    |\n",
    "+---------------+---------+\n",
    "| id            | int     |\n",
    "| revenue       | int     |\n",
    "| month         | varchar |\n",
    "+---------------+---------+\n",
    "(id, month) is the primary key of this table.\n",
    "The table has information about the revenue of each department per month.\n",
    "The month has values in [\"Jan\",\"Feb\",\"Mar\",\"Apr\",\"May\",\"Jun\",\"Jul\",\"Aug\",\"Sep\",\"Oct\",\"Nov\",\"Dec\"].\n",
    "\n",
    "Write an SQL query to reformat the table such that there is a department id column and a revenue column for each month.\n",
    "\n",
    "The query result format is in the following example:\n",
    "\n",
    "Department table:\n",
    "+------+---------+-------+\n",
    "| id   | revenue | month |\n",
    "+------+---------+-------+\n",
    "| 1    | 8000    | Jan   |\n",
    "| 2    | 9000    | Jan   |\n",
    "| 3    | 10000   | Feb   |\n",
    "| 1    | 7000    | Feb   |\n",
    "| 1    | 6000    | Mar   |\n",
    "+------+---------+-------+\n",
    "\n",
    "Result table:\n",
    "+------+-------------+-------------+-------------+-----+-------------+\n",
    "| id   | Jan_Revenue | Feb_Revenue | Mar_Revenue | ... | Dec_Revenue |\n",
    "+------+-------------+-------------+-------------+-----+-------------+\n",
    "| 1    | 8000        | 7000        | 6000        | ... | null        |\n",
    "| 2    | 9000        | null        | null        | ... | null        |\n",
    "| 3    | null        | 10000       | null        | ... | null        |\n",
    "+------+-------------+-------------+-------------+-----+-------------+\n",
    "\n",
    "Note that the result table has 13 columns (1 for the department id + 12 for the months)."
   ]
  },
  {
   "cell_type": "code",
   "execution_count": null,
   "metadata": {},
   "outputs": [],
   "source": [
    "select id,\n",
    "SUM(CASE WHEN month = 'Jan' THEN revenue ELSE NULL END) AS Jan_Revenue,\n",
    "SUM(CASE WHEN month = 'Feb' THEN revenue ELSE NULL END) AS Feb_Revenue,\n",
    "SUM(CASE WHEN month = 'Mar' THEN revenue ELSE NULL END) AS Mar_Revenue,\n",
    "SUM(CASE WHEN month = 'Apr' THEN revenue ELSE NULL END) AS Apr_Revenue,\n",
    "SUM(CASE WHEN month = 'May' THEN revenue ELSE NULL END) AS May_Revenue,\n",
    "SUM(CASE WHEN month = 'Jun' THEN revenue ELSE NULL END) AS Jun_Revenue,\n",
    "SUM(CASE WHEN month = 'Jul' THEN revenue ELSE NULL END) AS Jul_Revenue,\n",
    "SUM(CASE WHEN month = 'Aug' THEN revenue ELSE NULL END) AS Aug_Revenue,\n",
    "SUM(CASE WHEN month = 'Sep' THEN revenue ELSE NULL END) AS Sep_Revenue,\n",
    "SUM(CASE WHEN month = 'Oct' THEN revenue ELSE NULL END) AS Oct_Revenue,\n",
    "SUM(CASE WHEN month = 'Nov' THEN revenue ELSE NULL END) AS Nov_Revenue,\n",
    "SUM(CASE WHEN month = 'Dec' THEN revenue ELSE NULL END) AS Dec_Revenue\n",
    "FROM Department\n",
    "GROUP BY id;"
   ]
  }
 ],
 "metadata": {
  "hide_input": false,
  "kernelspec": {
   "display_name": "Python 3",
   "language": "python",
   "name": "python3"
  },
  "language_info": {
   "codemirror_mode": {
    "name": "ipython",
    "version": 3
   },
   "file_extension": ".py",
   "mimetype": "text/x-python",
   "name": "python",
   "nbconvert_exporter": "python",
   "pygments_lexer": "ipython3",
   "version": "3.8.5"
  },
  "toc": {
   "base_numbering": 1,
   "nav_menu": {},
   "number_sections": true,
   "sideBar": true,
   "skip_h1_title": false,
   "title_cell": "Table of Contents",
   "title_sidebar": "Contents",
   "toc_cell": false,
   "toc_position": {},
   "toc_section_display": true,
   "toc_window_display": false
  }
 },
 "nbformat": 4,
 "nbformat_minor": 4
}

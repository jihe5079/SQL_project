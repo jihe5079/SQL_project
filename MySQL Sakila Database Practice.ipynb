{
 "cells": [
  {
   "cell_type": "markdown",
   "metadata": {},
   "source": [
    "# Part 1"
   ]
  },
  {
   "cell_type": "markdown",
   "metadata": {},
   "source": [
    "## Is 'Academy Dinosaur' available for rent from Store 1?"
   ]
  },
  {
   "cell_type": "code",
   "execution_count": null,
   "metadata": {},
   "outputs": [],
   "source": [
    "# join\n",
    "SELECT i.*\n",
    "FROM inventory i\n",
    "JOIN film f\n",
    "ON i.film_id=f.film_id\n",
    "WHERE f.title = 'Academy Dinosaur'\n",
    "AND i.store_id = 1;"
   ]
  },
  {
   "cell_type": "code",
   "execution_count": null,
   "metadata": {},
   "outputs": [],
   "source": [
    "# sub query\n",
    "SELECT *\n",
    "FROM inventory\n",
    "WHERE film_id IN (\n",
    "  SELECT film_id\n",
    "  FROM film\n",
    "  WHERE title = 'Academy Dinosaur'\n",
    ")\n",
    "AND store_id = 1;"
   ]
  },
  {
   "cell_type": "markdown",
   "metadata": {},
   "source": [
    "## Step 1: which copies are at Store 1?"
   ]
  },
  {
   "cell_type": "code",
   "execution_count": null,
   "metadata": {},
   "outputs": [],
   "source": [
    "SELECT i.inventory_id, i.film_id, f.title, COUNT(i.film_id) AS Num_copies\n",
    "FROM inventory i\n",
    "LEFT JOIN film f\n",
    "ON i.film_id=f.film_id\n",
    "WHERE i.store_id = 1\n",
    "GROUP BY i.film_id;"
   ]
  },
  {
   "cell_type": "markdown",
   "metadata": {},
   "source": [
    "## Step 2: pick an inventory_id to rent:"
   ]
  },
  {
   "cell_type": "markdown",
   "metadata": {},
   "source": [
    "WITH temp AS (\n",
    "  SELECT i.inventory_id, i.film_id, f.title, COUNT(i.film_id) AS Num_copies\n",
    "  FROM inventory i\n",
    "  LEFT JOIN film f\n",
    "  ON i.film_id=f.film_id\n",
    "  WHERE i.store_id = 1\n",
    "  GROUP BY i.film_id)\n",
    "   \n",
    " SELECT *\n",
    " FROM temp\n",
    " WHERE inventory_id = 1;"
   ]
  },
  {
   "cell_type": "markdown",
   "metadata": {},
   "source": [
    "## Insert a record to represent Mary Smith renting 'Academy Dinosaur' from Mike Hillyer at Store 1 today ."
   ]
  },
  {
   "cell_type": "code",
   "execution_count": null,
   "metadata": {},
   "outputs": [],
   "source": [
    "# Create table\n",
    "CREATE TEMPORARY TABLE temp_rental AS (\n",
    "   SELECT * FROM rental\n",
    ");\n",
    "\n",
    "# Set variable values\n",
    "SET @new_rental_id = ((SELECT MAX(rental_id)\n",
    "                       FROM rental)\n",
    "                       + 1);\n",
    "\n",
    "SET @new_rental_duration = (SELECT rental_duration \n",
    "                            FROM film\n",
    "                            WHERE title = 'Academy Dinosaur');\n",
    "\n",
    "SET @return_time = (SELECT DATE_ADD(CURRENT_TIMESTAMP, INTERVAL @new_rental_duration DAY));\n",
    "\n",
    "SET @new_rental_customer_id = (SELECT customer_id \n",
    "                               FROM customer\n",
    "                               WHERE first_name = 'Mary'\n",
    "                               AND last_name = 'Smith');\n",
    "\n",
    "SET @new_rental_staff_id = (SELECT staff_id \n",
    "                            FROM staff\n",
    "                            WHERE first_name = 'Mike'\n",
    "                            AND last_name = 'Hillyer');\n",
    "\n",
    "# Add a new record\n",
    "INSERT INTO temp_rental (rental_id, rental_date, inventory_id, \n",
    "                         customer_id, return_date, staff_id, last_update)\n",
    "VALUES (@new_rental_id, CURRENT_TIMESTAMP, 1,\n",
    "        @new_rental_customer_id, @return_time, @new_rental_staff_id, CURRENT_TIMESTAMP);\n",
    "\n",
    "#Show the latest record rental_id\n",
    "SELECT * \n",
    "FROM temp_rental\n",
    "ORDER BY 1 DESC\n",
    "LIMIT 1;"
   ]
  },
  {
   "cell_type": "markdown",
   "metadata": {},
   "source": [
    "### When is 'Academy Dinosaur' due?"
   ]
  },
  {
   "cell_type": "code",
   "execution_count": null,
   "metadata": {},
   "outputs": [],
   "source": [
    "SELECT DATE_ADD(CURRENT_TIMESTAMP, INTERVAL @new_rental_duration DAY) AS Due_day;"
   ]
  },
  {
   "cell_type": "markdown",
   "metadata": {},
   "source": [
    "#### Step 1: what is the rental duration?"
   ]
  },
  {
   "cell_type": "code",
   "execution_count": null,
   "metadata": {},
   "outputs": [],
   "source": [
    "SELECT film_id, title, rental_duration \n",
    "FROM film\n",
    "WHERE title = 'Academy Dinosaur';"
   ]
  },
  {
   "cell_type": "markdown",
   "metadata": {},
   "source": [
    "#### Step 2: Which rental are we referring to -- the last one."
   ]
  },
  {
   "cell_type": "code",
   "execution_count": null,
   "metadata": {},
   "outputs": [],
   "source": [
    "SELECT * \n",
    "FROM temp_rental\n",
    "ORDER BY 1 DESC\n",
    "LIMIT 1;"
   ]
  },
  {
   "cell_type": "markdown",
   "metadata": {},
   "source": [
    "#### Step 3: add the rental duration to the rental date."
   ]
  },
  {
   "cell_type": "code",
   "execution_count": null,
   "metadata": {},
   "outputs": [],
   "source": [
    "SET @return_time = (SELECT DATE_ADD(@today_time, INTERVAL @new_rental_duration DAY));"
   ]
  },
  {
   "cell_type": "markdown",
   "metadata": {},
   "source": [
    "## What is that average length of all the films in the sakila DB?"
   ]
  },
  {
   "cell_type": "code",
   "execution_count": null,
   "metadata": {},
   "outputs": [],
   "source": [
    "SELECT AVG(length) AS Avg_length\n",
    "FROM film;"
   ]
  },
  {
   "cell_type": "markdown",
   "metadata": {},
   "source": [
    "## What is the average length of films by category?"
   ]
  },
  {
   "cell_type": "code",
   "execution_count": null,
   "metadata": {},
   "outputs": [],
   "source": [
    "SELECT fc.category_id, AVG(f.length)\n",
    "FROM film f\n",
    "JOIN film_category fc\n",
    "ON f.film_id=fc.film_id\n",
    "GROUP BY fc.category_id;"
   ]
  },
  {
   "cell_type": "markdown",
   "metadata": {},
   "source": [
    "## Which film categories are long? Long = lengh is longer than the average film length"
   ]
  },
  {
   "cell_type": "code",
   "execution_count": null,
   "metadata": {},
   "outputs": [],
   "source": [
    "SET @avg_length_all = (SELECT AVG(length)\n",
    "                       FROM film);\n",
    "\n",
    "SELECT fc.category_id, AVG(f.length) AS avg_length\n",
    "FROM film f\n",
    "JOIN film_category fc\n",
    "ON f.film_id=fc.film_id\n",
    "GROUP BY fc.category_id\n",
    "HAVING avg_length > @avg_length_all;"
   ]
  },
  {
   "cell_type": "markdown",
   "metadata": {},
   "source": [
    "# Part 2"
   ]
  },
  {
   "cell_type": "markdown",
   "metadata": {},
   "source": [
    "## 1a. Display the first and last names of all actors from the table actor."
   ]
  },
  {
   "cell_type": "code",
   "execution_count": null,
   "metadata": {},
   "outputs": [],
   "source": [
    "SELECT actor_id, first_name, last_name \n",
    "FROM actor;"
   ]
  },
  {
   "cell_type": "markdown",
   "metadata": {},
   "source": [
    "## 1b. Display the first and last name of each actor in a single column in upper case letters. Name the column Actor Name."
   ]
  },
  {
   "cell_type": "code",
   "execution_count": null,
   "metadata": {},
   "outputs": [],
   "source": [
    "CREATE TEMPORARY TABLE temp_actor AS (\n",
    "   SELECT actor_id, first_name, last_name \n",
    "   FROM actor\n",
    ");\n",
    "\n",
    "ALTER TABLE temp_actor\n",
    "ADD actor_name VARCHAR(40) GENERATED ALWAYS AS (CONCAT(UPPER(first_name),' ', UPPER(last_name)));\n",
    "\n",
    "SELECT * FROM temp_actor;"
   ]
  },
  {
   "cell_type": "markdown",
   "metadata": {},
   "source": [
    "## 2a. You need to find the ID number, first name, and last name of an actor, of whom you know only the first name, \"Joe.\" What is one query would you use to obtain this information?"
   ]
  },
  {
   "cell_type": "code",
   "execution_count": null,
   "metadata": {},
   "outputs": [],
   "source": [
    "SELECT * \n",
    "FROM actor\n",
    "WHERE first_name = 'Joe';"
   ]
  },
  {
   "cell_type": "markdown",
   "metadata": {},
   "source": [
    "## 2b. Find all actors whose last name contain the letters GEN:"
   ]
  },
  {
   "cell_type": "code",
   "execution_count": null,
   "metadata": {},
   "outputs": [],
   "source": [
    "SELECT * \n",
    "FROM actor\n",
    "WHERE last_name LIKE '%GEN%';"
   ]
  },
  {
   "cell_type": "markdown",
   "metadata": {},
   "source": [
    "## 2c. Find all actors whose last names contain the letters LI. This time, order the rows by last name and first name, in that order:"
   ]
  },
  {
   "cell_type": "code",
   "execution_count": null,
   "metadata": {},
   "outputs": [],
   "source": [
    "SELECT * \n",
    "FROM actor\n",
    "WHERE last_name LIKE '%LI%'\n",
    "ORDER BY 3, 2;"
   ]
  },
  {
   "cell_type": "markdown",
   "metadata": {},
   "source": [
    "## 2d. Using IN, display the country_id and country columns of the following countries: Afghanistan, Bangladesh, and China:"
   ]
  },
  {
   "cell_type": "code",
   "execution_count": null,
   "metadata": {},
   "outputs": [],
   "source": [
    "SELECT country_id, country \n",
    "FROM country\n",
    "WHERE country IN ('Afghanistan', 'Bangladesh', 'China');"
   ]
  },
  {
   "cell_type": "markdown",
   "metadata": {},
   "source": [
    "## 3a. Add a middle_name column to the table actor. Position it between first_name and last_name. Hint: you will need to specify the data type."
   ]
  },
  {
   "cell_type": "code",
   "execution_count": null,
   "metadata": {},
   "outputs": [],
   "source": [
    "CREATE TEMPORARY TABLE temp_actor AS (\n",
    "   SELECT actor_id, first_name, last_name \n",
    "   FROM actor\n",
    ");\n",
    "\n",
    "ALTER TABLE temp_actor\n",
    "ADD middle_name VARCHAR(40) AFTER first_name;\n",
    "\n",
    "SELECT * FROM temp_actor;"
   ]
  },
  {
   "cell_type": "markdown",
   "metadata": {},
   "source": [
    "## 3b. You realize that some of these actors have tremendously long last names. Change the data type of the middle_name column to blobs."
   ]
  },
  {
   "cell_type": "code",
   "execution_count": null,
   "metadata": {},
   "outputs": [],
   "source": [
    "ALTER TABLE temp_actor\n",
    "MODIFY COLUMN middle_name BLOB;"
   ]
  },
  {
   "cell_type": "markdown",
   "metadata": {},
   "source": [
    "## 3c. Now delete the middle_name column."
   ]
  },
  {
   "cell_type": "code",
   "execution_count": null,
   "metadata": {},
   "outputs": [],
   "source": [
    "ALTER TABLE temp_actor\n",
    "DROP COLUMN middle_name;"
   ]
  },
  {
   "cell_type": "markdown",
   "metadata": {},
   "source": [
    "## 4a. List the last names of actors, as well as how many actors have that last name."
   ]
  },
  {
   "cell_type": "code",
   "execution_count": null,
   "metadata": {},
   "outputs": [],
   "source": [
    "SELECT last_name, COUNT(*) AS Num_actor\n",
    "FROM actor\n",
    "GROUP BY last_name\n",
    "ORDER BY 2 DESC;"
   ]
  },
  {
   "cell_type": "markdown",
   "metadata": {},
   "source": [
    "## 4b. List last names of actors and the number of actors who have that last name, but only for names that are shared by at least two actors"
   ]
  },
  {
   "cell_type": "code",
   "execution_count": null,
   "metadata": {},
   "outputs": [],
   "source": [
    "SELECT last_name, COUNT(*) AS Num_actor\n",
    "FROM actor\n",
    "GROUP BY last_name\n",
    "HAVING Num_actor >= 2\n",
    "ORDER BY 2 DESC;"
   ]
  },
  {
   "cell_type": "markdown",
   "metadata": {},
   "source": [
    "## 4c. Oh, no! The actor HARPO WILLIAMS was accidentally entered in the actor table as GROUCHO WILLIAMS, the name of Harpo's second cousin's husband's yoga teacher. Write a query to fix the record."
   ]
  },
  {
   "cell_type": "code",
   "execution_count": null,
   "metadata": {},
   "outputs": [],
   "source": [
    "CREATE TEMPORARY TABLE temp_actor AS (\n",
    "   SELECT actor_id, first_name, last_name \n",
    "   FROM actor\n",
    ");\n",
    "\n",
    "SET @target_id = (SELECT actor_id \n",
    "                  FROM temp_actor\n",
    "                  WHERE first_name = 'GROUCHO'\n",
    "                  AND last_name = 'WILLIAMS');\n",
    "\n",
    "UPDATE temp_actor\n",
    "SET first_name = 'HARPO'\n",
    "WHERE actor_id = @target_id;"
   ]
  },
  {
   "cell_type": "markdown",
   "metadata": {},
   "source": [
    "## 4d. Perhaps we were too hasty in changing GROUCHO to HARPO. It turns out that GROUCHO was the correct name after all! In a single query, if the first name of the actor is currently HARPO, change it to GROUCHO. Otherwise, change the first name to MUCHO GROUCHO, as that is exactly what the actor will be with the grievous error. BE CAREFUL NOT TO CHANGE THE FIRST NAME OF EVERY ACTOR TO MUCHO GROUCHO, HOWEVER! (Hint: update the record using a unique identifier.)"
   ]
  },
  {
   "cell_type": "code",
   "execution_count": null,
   "metadata": {},
   "outputs": [],
   "source": [
    "# Check unique or not\n",
    "SELECT first_name, COUNT(*)\n",
    "FROM temp_actor\n",
    "WHERE first_name IN ('HARPO', 'GROUCHO');\n",
    "\n",
    "UPDATE temp_actor\n",
    "SET first_name = CASE WHEN first_name = 'HARPO' THEN 'GROUCHO'\n",
    "                      WHEN first_name = 'GROUCHO' THEN 'MUCHO GROUCHO'\n",
    "                      ELSE first_name\n",
    "                 END;\n",
    "                 \n",
    "SELECT * FROM temp_actor\n",
    "WHERE first_name LIKE ('%GROUCHO%');"
   ]
  },
  {
   "cell_type": "markdown",
   "metadata": {},
   "source": [
    "## 5a. You cannot locate the schema of the address table. Which query would you use to re-create it?"
   ]
  },
  {
   "cell_type": "code",
   "execution_count": null,
   "metadata": {},
   "outputs": [],
   "source": [
    "CREATE TABLE address2 (address_id INT NOT NULL PRIMARY KEY,\n",
    "                       address VARCHAR(50) NOT NULL,\n",
    "                       adress2 VARCHAR(50),\n",
    "                       district VARCHAR(20) NOT NULL,\n",
    "                       city_id INT,\n",
    "                       postal_code INT,\n",
    "                       phone INT,\n",
    "                       location BLOB NOT NULL,\n",
    "                       last_update DATETIME\n",
    "                       );"
   ]
  },
  {
   "cell_type": "markdown",
   "metadata": {},
   "source": [
    "## 6a. Use JOIN to display the first and last names, as well as the address, of each staff member. Use the tables staff and address:"
   ]
  },
  {
   "cell_type": "code",
   "execution_count": null,
   "metadata": {},
   "outputs": [],
   "source": [
    "SELECT s.staff_id, s.first_name, s.last_name, a.address_id, a.address\n",
    "FROM staff s\n",
    "JOIN address a\n",
    "ON s.address_id=a.address_id;"
   ]
  },
  {
   "cell_type": "markdown",
   "metadata": {},
   "source": [
    "## 6b. Use JOIN to display the total amount rung up by each staff member in August of 2005. Use tables staff and payment."
   ]
  },
  {
   "cell_type": "code",
   "execution_count": null,
   "metadata": {},
   "outputs": [],
   "source": [
    "SELECT s.staff_id, s.first_name, s.last_name, SUM(p.amount) AS Total_amount\n",
    "FROM payment p\n",
    "JOIN staff s\n",
    "ON p.staff_id=s.staff_id\n",
    "WHERE p.payment_date LIKE '2005-08%'\n",
    "GROUP BY p.staff_id;"
   ]
  },
  {
   "cell_type": "markdown",
   "metadata": {},
   "source": [
    "## 6c. List each film and the number of actors who are listed for that film. Use tables film_actor and film. Use inner join."
   ]
  },
  {
   "cell_type": "code",
   "execution_count": null,
   "metadata": {},
   "outputs": [],
   "source": [
    "SELECT f.film_id, f.title, COUNT(DISTINCT fa.actor_id) AS Num_actor\n",
    "FROM film f\n",
    "JOIN film_actor fa\n",
    "ON f.film_id=fa.film_id\n",
    "GROUP BY fa.film_id;"
   ]
  },
  {
   "cell_type": "markdown",
   "metadata": {},
   "source": [
    "## 6d. How many copies of the film Hunchback Impossible exist in the inventory system?"
   ]
  },
  {
   "cell_type": "code",
   "execution_count": null,
   "metadata": {},
   "outputs": [],
   "source": [
    "SELECT f.film_id, f.title, COUNT(*) AS Num_copies\n",
    "FROM inventory i\n",
    "LEFT JOIN film f\n",
    "ON i.film_id=f.film_id\n",
    "WHERE f.title = 'Hunchback Impossible'\n",
    "GROUP BY f.title;"
   ]
  },
  {
   "cell_type": "markdown",
   "metadata": {},
   "source": [
    "## 7a. The music of Queen and Kris Kristofferson have seen an unlikely resurgence. As an unintended consequence, films starting with the letters K and Q have also soared in popularity. Use subqueries to display the titles of movies starting with the letters K and Q whose language is English."
   ]
  },
  {
   "cell_type": "code",
   "execution_count": null,
   "metadata": {},
   "outputs": [],
   "source": [
    "WITH tl AS (SELECT * FROM language\n",
    "            WHERE name = 'English')\n",
    "\n",
    "SELECT f.film_id, f.title, tl.name AS language_name\n",
    "FROM film f\n",
    "LEFT JOIN tl\n",
    "ON f.language_id=tl.language_id\n",
    "WHERE f.title LIKE 'K%' OR 'Q%'\n",
    "\n",
    "# OR\n",
    "SELECT f.film_id, f.title, la.name AS language_name\n",
    "FROM film f\n",
    "LEFT JOIN language la\n",
    "ON f.language_id=la.language_id\n",
    "WHERE f.title LIKE 'K%' OR 'Q%' \n",
    "AND la.name = 'English';"
   ]
  },
  {
   "cell_type": "markdown",
   "metadata": {},
   "source": [
    "## 7b. Use subqueries to display all actors who appear in the film Alone Trip."
   ]
  },
  {
   "cell_type": "code",
   "execution_count": null,
   "metadata": {},
   "outputs": [],
   "source": [
    "SELECT fa.film_id, f.title, fa.actor_id, CONCAT(a.first_name,' ', a.last_name) AS actor_name\n",
    "FROM film_actor fa\n",
    "JOIN actor a\n",
    "  ON fa.actor_id=a.actor_id\n",
    "JOIN film f\n",
    "  ON fa.film_id=f.film_id\n",
    "WHERE f.title='Alone Trip';"
   ]
  },
  {
   "cell_type": "markdown",
   "metadata": {},
   "source": [
    "## 7c. You want to run an email marketing campaign in Canada, for which you will need the names and email addresses of all Canadian customers. Use joins to retrieve this information."
   ]
  },
  {
   "cell_type": "code",
   "execution_count": null,
   "metadata": {},
   "outputs": [],
   "source": [
    "SELECT cu.customer_id, CONCAT(cu.first_name, ' ', cu.last_name) AS Customer_name, cu.email, co.country\n",
    "FROM customer cu\n",
    "JOIN address ad \n",
    "  ON cu.address_id=ad.address_id\n",
    "JOIN city \n",
    "  ON ad.city_id=city.city_id\n",
    "JOIN country co \n",
    "  ON city.country_id=co.country_id\n",
    "WHERE co.country='Canada'\n",
    "ORDER BY 1;"
   ]
  },
  {
   "cell_type": "markdown",
   "metadata": {},
   "source": [
    "## 7d. Sales have been lagging among young families, and you wish to target all family movies for a promotion. Identify all movies categorized as famiy films."
   ]
  },
  {
   "cell_type": "code",
   "execution_count": null,
   "metadata": {},
   "outputs": [],
   "source": [
    "SELECT f.film_id, f.title, c.name AS film_cat_name \n",
    "FROM film f\n",
    "JOIN film_category fc \n",
    "  ON f.film_id=fc.film_id\n",
    "JOIN category c \n",
    "  ON fc.category_id=c.category_id\n",
    "WHERE c.name = 'family';"
   ]
  },
  {
   "cell_type": "markdown",
   "metadata": {},
   "source": [
    "## 7e. Display the most frequently rented movies in descending order."
   ]
  },
  {
   "cell_type": "code",
   "execution_count": null,
   "metadata": {},
   "outputs": [],
   "source": [
    "SELECT f.film_id, f.title, COUNT(DISTINCT r.rental_id) AS Num_rented\n",
    "FROM rental r\n",
    "JOIN inventory inv \n",
    "  ON r.inventory_id=inv.inventory_id\n",
    "JOIN film f\n",
    "  ON inv.film_id=f.film_id\n",
    "GROUP BY f.film_id\n",
    "ORDER BY 3 DESC;"
   ]
  },
  {
   "cell_type": "markdown",
   "metadata": {},
   "source": [
    "## 7f. Write a query to display how much business, in dollars, each store brought in."
   ]
  },
  {
   "cell_type": "code",
   "execution_count": null,
   "metadata": {},
   "outputs": [],
   "source": [
    "SELECT s.store_id, SUM(p.amount) AS Total_amount\n",
    "FROM payment p\n",
    "JOIN staff s\n",
    "  ON p.staff_id=s.staff_id\n",
    "GROUP BY s.store_id;"
   ]
  },
  {
   "cell_type": "markdown",
   "metadata": {},
   "source": [
    "## 7g. Write a query to display for each store its store ID, city, and country."
   ]
  },
  {
   "cell_type": "code",
   "execution_count": null,
   "metadata": {},
   "outputs": [],
   "source": [
    "SELECT s.store_id, ci.city, co.country\n",
    "FROM store s\n",
    "JOIN address a\n",
    "  ON s.address_id=a.address_id\n",
    "JOIN city ci\n",
    "  ON a.city_id=ci.city_id\n",
    "JOIN country co\n",
    "  ON ci.country_id=co.country_id;"
   ]
  },
  {
   "cell_type": "markdown",
   "metadata": {},
   "source": [
    "## 7h. List the top five genres in gross revenue in descending order. (Hint: you may need to use the following tables: category, film_category, inventory, payment, and rental.)"
   ]
  },
  {
   "cell_type": "code",
   "execution_count": null,
   "metadata": {},
   "outputs": [],
   "source": [
    "SELECT c.category_id, c.name AS Cat_name, SUM(p.amount) AS Total_amount\n",
    "FROM payment p\n",
    "JOIN rental r\n",
    "  ON p.rental_id=r.rental_id\n",
    "JOIN inventory i\n",
    "  ON r.inventory_id=i.inventory_id\n",
    "JOIN film_category fc\n",
    "  ON i.film_id=fc.film_id\n",
    "JOIN category c\n",
    "  ON fc.category_id=c.category_id\n",
    "GROUP BY c.category_id\n",
    "ORDER BY 3 DESC\n",
    "LIMIT 5;"
   ]
  },
  {
   "cell_type": "markdown",
   "metadata": {},
   "source": [
    "## 8a. In your new role as an executive, you would like to have an easy way of viewing the Top five genres by gross revenue. Use the solution from the problem above to create a view. If you haven't solved 7h, you can substitute another query to create a view."
   ]
  },
  {
   "cell_type": "code",
   "execution_count": null,
   "metadata": {},
   "outputs": [],
   "source": [
    "CREATE VIEW top_5_genres AS\n",
    "SELECT c.category_id, c.name AS Cat_name, SUM(p.amount) AS Total_amount\n",
    "FROM payment p\n",
    "JOIN rental r\n",
    "  ON p.rental_id=r.rental_id\n",
    "JOIN inventory i\n",
    "  ON r.inventory_id=i.inventory_id\n",
    "JOIN film_category fc\n",
    "  ON i.film_id=fc.film_id\n",
    "JOIN category c\n",
    "  ON fc.category_id=c.category_id\n",
    "GROUP BY c.category_id\n",
    "ORDER BY 3 DESC\n",
    "LIMIT 5;"
   ]
  },
  {
   "cell_type": "markdown",
   "metadata": {},
   "source": [
    "## 8b. How would you display the view that you created in 8a?"
   ]
  },
  {
   "cell_type": "code",
   "execution_count": null,
   "metadata": {},
   "outputs": [],
   "source": [
    "SELECT * FROM top_5_genres;"
   ]
  },
  {
   "cell_type": "markdown",
   "metadata": {},
   "source": [
    "## 8c. You find that you no longer need the view top_five_genres. Write a query to delete it."
   ]
  },
  {
   "cell_type": "code",
   "execution_count": null,
   "metadata": {},
   "outputs": [],
   "source": [
    "DROP VIEW top_5_genres;"
   ]
  }
 ],
 "metadata": {
  "hide_input": false,
  "kernelspec": {
   "display_name": "Python 3",
   "language": "python",
   "name": "python3"
  },
  "language_info": {
   "codemirror_mode": {
    "name": "ipython",
    "version": 3
   },
   "file_extension": ".py",
   "mimetype": "text/x-python",
   "name": "python",
   "nbconvert_exporter": "python",
   "pygments_lexer": "ipython3",
   "version": "3.8.5"
  },
  "toc": {
   "base_numbering": 1,
   "nav_menu": {},
   "number_sections": true,
   "sideBar": true,
   "skip_h1_title": false,
   "title_cell": "Table of Contents",
   "title_sidebar": "Contents",
   "toc_cell": false,
   "toc_position": {},
   "toc_section_display": true,
   "toc_window_display": false
  }
 },
 "nbformat": 4,
 "nbformat_minor": 4
}
